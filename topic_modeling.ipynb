{
 "cells": [
  {
   "cell_type": "markdown",
   "id": "8002d947-4a33-4491-bb11-446f1ad9ebae",
   "metadata": {},
   "source": [
    "# Topic modeling"
   ]
  },
  {
   "cell_type": "markdown",
   "id": "f5b81dda-2972-4737-9491-69438099d4d8",
   "metadata": {},
   "source": [
    "## Comparación entre Propuesta de Constitución y Constitución Vigente"
   ]
  },
  {
   "cell_type": "markdown",
   "id": "b6fa0752-f43a-4d80-9675-a2c6f27875ca",
   "metadata": {},
   "source": [
    "### Librerías"
   ]
  },
  {
   "cell_type": "code",
   "execution_count": 1,
   "id": "41594d66-8785-45b7-a2e9-0c3e12227b5b",
   "metadata": {},
   "outputs": [],
   "source": [
    "import pandas as pd\n",
    "import numpy as np"
   ]
  },
  {
   "cell_type": "code",
   "execution_count": 2,
   "id": "7ab9bb3d-963f-48cd-8b59-03ac27fb40b4",
   "metadata": {},
   "outputs": [],
   "source": [
    "# for text preprocessing\n",
    "import re\n",
    "import spacy\n",
    "\n",
    "from nltk.corpus import stopwords \n",
    "from nltk.stem.wordnet import WordNetLemmatizer\n",
    "import string\n",
    "\n",
    "# import vectorizers\n",
    "from sklearn.feature_extraction.text import TfidfVectorizer, CountVectorizer"
   ]
  },
  {
   "cell_type": "code",
   "execution_count": 3,
   "id": "64a83416-054d-49cc-8fc1-db59022b48b9",
   "metadata": {},
   "outputs": [],
   "source": [
    "# import LDA from sklearn\n",
    "from sklearn.decomposition import LatentDirichletAllocation"
   ]
  },
  {
   "cell_type": "code",
   "execution_count": 4,
   "id": "b33da4fe-2438-46c9-9030-3873f6f0b5b4",
   "metadata": {},
   "outputs": [],
   "source": [
    "import warnings\n",
    "warnings.filterwarnings(\"ignore\")"
   ]
  },
  {
   "cell_type": "code",
   "execution_count": 5,
   "id": "4ba9e066-6978-485f-bd24-0fc1fa89532f",
   "metadata": {},
   "outputs": [],
   "source": [
    "esp_stop = stopwords.words('spanish')\n",
    "esp_stop = esp_stop + ['ser','tener','deber']"
   ]
  },
  {
   "cell_type": "markdown",
   "id": "6836bc51-7277-497e-94b2-303184657471",
   "metadata": {
    "tags": []
   },
   "source": [
    "## Funciones"
   ]
  },
  {
   "cell_type": "code",
   "execution_count": 6,
   "id": "b490fa7e-4254-4a84-96b6-079cbd805c68",
   "metadata": {},
   "outputs": [],
   "source": [
    "def delete_stopwords(text):\n",
    "    \"\"\"\n",
    "    Función para eliminar stopwords del texto\n",
    "    \"\"\"\n",
    "    doc = nlp(text)\n",
    "    return ' '.join([word.text for word in doc if word.text not in esp_stop])"
   ]
  },
  {
   "cell_type": "code",
   "execution_count": 7,
   "id": "0f83da13-1245-40a8-ac33-f76377f959fc",
   "metadata": {},
   "outputs": [],
   "source": [
    "def cleaner(df, text):\n",
    "    \"\"\"\n",
    "    Función para dejar las palabras en minúscula, eliminar números, puntuación, espacios y saltos de línea.\n",
    "    \"\"\"\n",
    "    df[text] = df[text].str.lower()\n",
    "    df[text] = df[text].apply(lambda x: re.sub(\"[0-9]\", '', str(x)))\n",
    "    df[text] = df[text].str.translate(str.maketrans(' ', ' ', string.punctuation))\n",
    "    df[text] = df[text].str.replace('\\n',' ')\n",
    "    df[text] = df[text].str.replace('nº','')\n",
    "    df[text] = df[text].str.replace('n°','')\n",
    "    df[text] = df[text].str.replace('n º','')\n",
    "    df[text] = df[text].str.replace('n °','')\n",
    "    df[text] = df[text].str.replace('º','')\n",
    "    df[text] = df[text].str.replace('°','')\n",
    "    df[text] = df[text].str.strip()\n",
    "    df[text] = df[text].str.normalize('NFKD').str.encode('ascii', errors='ignore').str.decode('utf-8')  # Eliminación de acentos\n",
    "    "
   ]
  },
  {
   "cell_type": "code",
   "execution_count": 8,
   "id": "b3ed72c4-7c44-4fd9-983e-31d6a9e5275e",
   "metadata": {},
   "outputs": [],
   "source": [
    "def wordcloud(data):\n",
    "    \"\"\"\n",
    "    Función para graficar un wordcloud\n",
    "    \"\"\"\n",
    "    wc = WordCloud(background_color='white',width=800, height=400, max_words=200, colormap = 'plasma').generate_from_frequencies(data)\n",
    "    plt.figure(figsize=(15, 10))\n",
    "    plt.imshow(wc, interpolation='bilinear')\n",
    "    plt.axis('off')\n",
    "    plt.show()"
   ]
  },
  {
   "cell_type": "markdown",
   "id": "446eb308-fffd-419a-9281-2efa3406c770",
   "metadata": {},
   "source": [
    "### Importando textos ya digitalizados"
   ]
  },
  {
   "cell_type": "code",
   "execution_count": 9,
   "id": "b362d3f5-0836-4a58-9cd2-03c20193671a",
   "metadata": {},
   "outputs": [],
   "source": [
    "df_propuesta = pd.read_csv('data/processed/constitucion_propuesta.csv')\n",
    "df_propuesta.rename(columns = {'articulo':'nro_articulo'}, inplace = True)\n",
    "df_propuesta['constitucion'] = 'Propuesta'\n",
    "df_propuesta = df_propuesta[df_propuesta['capitulo']!='Convención Constitucional']\n",
    "\n",
    "df_vigente = pd.read_csv('data/processed/constitucion_actual.csv')\n",
    "df_vigente.drop(columns = 'id', inplace = True)\n",
    "df_vigente['constitucion'] = 'Vigente'\n",
    "\n",
    "df = pd.concat([df_vigente,df_propuesta])\n",
    "\n",
    "df = df[['constitucion','capitulo', 'titulo_capitulo', 'nro_articulo', 'texto']]"
   ]
  },
  {
   "cell_type": "code",
   "execution_count": 10,
   "id": "38efe651-bc4b-47ea-8806-46bc8793178e",
   "metadata": {},
   "outputs": [],
   "source": [
    "df.reset_index(drop = True, inplace = True)"
   ]
  },
  {
   "cell_type": "code",
   "execution_count": 11,
   "id": "0763f1ca-35df-4b8e-9376-b206b34667c0",
   "metadata": {},
   "outputs": [
    {
     "data": {
      "text/html": [
       "<div>\n",
       "<style scoped>\n",
       "    .dataframe tbody tr th:only-of-type {\n",
       "        vertical-align: middle;\n",
       "    }\n",
       "\n",
       "    .dataframe tbody tr th {\n",
       "        vertical-align: top;\n",
       "    }\n",
       "\n",
       "    .dataframe thead th {\n",
       "        text-align: right;\n",
       "    }\n",
       "</style>\n",
       "<table border=\"1\" class=\"dataframe\">\n",
       "  <thead>\n",
       "    <tr style=\"text-align: right;\">\n",
       "      <th></th>\n",
       "      <th>constitucion</th>\n",
       "      <th>capitulo</th>\n",
       "      <th>titulo_capitulo</th>\n",
       "      <th>nro_articulo</th>\n",
       "      <th>texto</th>\n",
       "    </tr>\n",
       "  </thead>\n",
       "  <tbody>\n",
       "    <tr>\n",
       "      <th>1482</th>\n",
       "      <td>Propuesta</td>\n",
       "      <td>Capítulo VI</td>\n",
       "      <td>Estado Regional y Organización Territorial</td>\n",
       "      <td>Artículo 164</td>\n",
       "      <td>- i) El fomento y la protección a las cultura...</td>\n",
       "    </tr>\n",
       "    <tr>\n",
       "      <th>2018</th>\n",
       "      <td>Propuesta</td>\n",
       "      <td>Capítulo VIII</td>\n",
       "      <td>Poder Ejecutivo</td>\n",
       "      <td>Artículo 263</td>\n",
       "      <td>### Artículo 291</td>\n",
       "    </tr>\n",
       "    <tr>\n",
       "      <th>1361</th>\n",
       "      <td>Propuesta</td>\n",
       "      <td>Capítulo V</td>\n",
       "      <td>Buen Gobierno y Función Pública</td>\n",
       "      <td>Artículo 164</td>\n",
       "      <td>### Artículo 170</td>\n",
       "    </tr>\n",
       "  </tbody>\n",
       "</table>\n",
       "</div>"
      ],
      "text/plain": [
       "     constitucion       capitulo                             titulo_capitulo  \\\n",
       "1482    Propuesta    Capítulo VI  Estado Regional y Organización Territorial   \n",
       "2018    Propuesta  Capítulo VIII                             Poder Ejecutivo   \n",
       "1361    Propuesta     Capítulo V             Buen Gobierno y Función Pública   \n",
       "\n",
       "      nro_articulo                                              texto  \n",
       "1482  Artículo 164  - i) El fomento y la protección a las cultura...  \n",
       "2018  Artículo 263                                  ### Artículo 291  \n",
       "1361  Artículo 164                                  ### Artículo 170  "
      ]
     },
     "execution_count": 11,
     "metadata": {},
     "output_type": "execute_result"
    }
   ],
   "source": [
    "df.sample(3)"
   ]
  },
  {
   "cell_type": "markdown",
   "id": "d6300d10-50fc-4679-a52b-30ec7ee65849",
   "metadata": {},
   "source": [
    "### Desarrollo"
   ]
  },
  {
   "cell_type": "markdown",
   "id": "feb4bf23-944f-44bb-8452-81f168060220",
   "metadata": {},
   "source": [
    "Basado en: https://github.com/sethns/Latent-Dirichlet-Allocation-LDA-/blob/main/Topic%20Modeling%20_%20Extracting%20Topics_%20Using%20Sklearn.ipynb"
   ]
  },
  {
   "cell_type": "markdown",
   "id": "cfac0f17-b8b5-439a-ac30-ceba16b07783",
   "metadata": {},
   "source": [
    "Definiendo nlp"
   ]
  },
  {
   "cell_type": "code",
   "execution_count": 12,
   "id": "258de67e-f68c-42c3-a1cc-46fb3860be7e",
   "metadata": {},
   "outputs": [],
   "source": [
    "nlp = spacy.load('es_core_news_sm')"
   ]
  },
  {
   "cell_type": "markdown",
   "id": "f93d0ab3-6fbc-4df6-a4ad-6bd5517b4b49",
   "metadata": {},
   "source": [
    "Limpiando texto"
   ]
  },
  {
   "cell_type": "code",
   "execution_count": 13,
   "id": "df6f6493-073a-4293-8d5e-4874ff29775e",
   "metadata": {},
   "outputs": [],
   "source": [
    "cleaner(df, 'texto')"
   ]
  },
  {
   "cell_type": "code",
   "execution_count": 14,
   "id": "cba3b414-109a-456b-b7d7-ebbd1bb52c39",
   "metadata": {},
   "outputs": [],
   "source": [
    "df['texto_clean'] = df['texto'].apply(lambda x: delete_stopwords(x))"
   ]
  },
  {
   "cell_type": "code",
   "execution_count": 15,
   "id": "8088947f-c3f7-4412-b2ec-9bc4bbd62245",
   "metadata": {},
   "outputs": [
    {
     "data": {
      "text/html": [
       "<div>\n",
       "<style scoped>\n",
       "    .dataframe tbody tr th:only-of-type {\n",
       "        vertical-align: middle;\n",
       "    }\n",
       "\n",
       "    .dataframe tbody tr th {\n",
       "        vertical-align: top;\n",
       "    }\n",
       "\n",
       "    .dataframe thead th {\n",
       "        text-align: right;\n",
       "    }\n",
       "</style>\n",
       "<table border=\"1\" class=\"dataframe\">\n",
       "  <thead>\n",
       "    <tr style=\"text-align: right;\">\n",
       "      <th></th>\n",
       "      <th>constitucion</th>\n",
       "      <th>capitulo</th>\n",
       "      <th>titulo_capitulo</th>\n",
       "      <th>nro_articulo</th>\n",
       "      <th>texto</th>\n",
       "      <th>texto_clean</th>\n",
       "    </tr>\n",
       "  </thead>\n",
       "  <tbody>\n",
       "    <tr>\n",
       "      <th>955</th>\n",
       "      <td>Propuesta</td>\n",
       "      <td>Capítulo II</td>\n",
       "      <td>Derechos Fundamentales y Garantías</td>\n",
       "      <td>Artículo 40</td>\n",
       "      <td>toda persona tiene derecho a recibir una educa...</td>\n",
       "      <td>toda persona derecho recibir educacion sexual ...</td>\n",
       "    </tr>\n",
       "  </tbody>\n",
       "</table>\n",
       "</div>"
      ],
      "text/plain": [
       "    constitucion     capitulo                     titulo_capitulo  \\\n",
       "955    Propuesta  Capítulo II  Derechos Fundamentales y Garantías   \n",
       "\n",
       "    nro_articulo                                              texto  \\\n",
       "955  Artículo 40  toda persona tiene derecho a recibir una educa...   \n",
       "\n",
       "                                           texto_clean  \n",
       "955  toda persona derecho recibir educacion sexual ...  "
      ]
     },
     "execution_count": 15,
     "metadata": {},
     "output_type": "execute_result"
    }
   ],
   "source": [
    "df.sample()"
   ]
  },
  {
   "cell_type": "code",
   "execution_count": 16,
   "id": "a294f6bf-47c5-4d4b-9e35-750288f3f3a6",
   "metadata": {},
   "outputs": [],
   "source": [
    "cv_vectorizer = CountVectorizer(ngram_range = (1,1))\n",
    "cv_arr = cv_vectorizer.fit_transform(df['texto_clean'])"
   ]
  },
  {
   "cell_type": "code",
   "execution_count": 17,
   "id": "6cf869b4-a4e5-41c9-928b-16ab646323b2",
   "metadata": {},
   "outputs": [
    {
     "data": {
      "text/plain": [
       "<2619x5615 sparse matrix of type '<class 'numpy.int64'>'\n",
       "\twith 41120 stored elements in Compressed Sparse Row format>"
      ]
     },
     "execution_count": 17,
     "metadata": {},
     "output_type": "execute_result"
    }
   ],
   "source": [
    "cv_arr"
   ]
  },
  {
   "cell_type": "code",
   "execution_count": 18,
   "id": "cbf0c902-4555-4527-a14a-34f56b631545",
   "metadata": {},
   "outputs": [
    {
     "data": {
      "text/plain": [
       "['abandono',\n",
       " 'abastecer',\n",
       " 'abastecimiento',\n",
       " 'abierta',\n",
       " 'abiertamente',\n",
       " 'abierto',\n",
       " 'abiertos',\n",
       " 'abogada',\n",
       " 'abogadas',\n",
       " 'abogado']"
      ]
     },
     "execution_count": 18,
     "metadata": {},
     "output_type": "execute_result"
    }
   ],
   "source": [
    "# Creating vocabulary array which will represent all the corpus \n",
    "vocab_cv = cv_vectorizer.get_feature_names()\n",
    "\n",
    "# get the vocb list\n",
    "vocab_cv[:10]"
   ]
  },
  {
   "cell_type": "markdown",
   "id": "a29e4118-52a1-40dd-bd36-0faf84071a02",
   "metadata": {},
   "source": [
    "### Implementando LDA"
   ]
  },
  {
   "cell_type": "code",
   "execution_count": 19,
   "id": "5fc1e630-973e-4299-96c0-4b49b0c6d107",
   "metadata": {},
   "outputs": [],
   "source": [
    "# Implementation of LDA:\n",
    "    \n",
    "# Create object for the LDA class \n",
    "# Inside this class LDA: define the components:\n",
    "lda_model = LatentDirichletAllocation(n_components = 7, max_iter = 20, random_state = 20)\n",
    "\n",
    "# fit transform on model on our count_vectorizer : running this will return our topics \n",
    "X_topics = lda_model.fit_transform(cv_arr)\n",
    "\n",
    "# .components_ gives us our topic distribution \n",
    "topic_words = lda_model.components_\n",
    "\n"
   ]
  },
  {
   "cell_type": "code",
   "execution_count": 20,
   "id": "70a05108-0d68-4f9e-b5d1-4bd75b03cf10",
   "metadata": {},
   "outputs": [
    {
     "name": "stdout",
     "output_type": "stream",
     "text": [
      "Topic 0 ['ley' 'constitucion' 'republica' 'atribuciones' 'nacional' 'podra'\n",
      " 'presidente' 'organizacion' 'funciones']\n",
      "Topic 1 ['derecho' 'ley' 'constitucion' 'persona' 'toda' 'podra' 'derechos'\n",
      " 'ejercicio' 'organos']\n",
      "Topic 2 ['articulo' 'ley' 'inciso' 'sera' 'tribunal' 'podra' 'leyes' 'perjuicio'\n",
      " 'constitucion']\n",
      "Topic 3 ['derechos' 'ley' 'derecho' 'personas' 'ejercicio' 'educacion' 'humanos'\n",
      " 'constitucion' 'proteccion']\n",
      "Topic 4 ['regional' 'territoriales' 'region' 'constitucion' 'entidades' 'gobierno'\n",
      " 'autonoma' 'administracion' 'competencias']\n",
      "Topic 5 ['ley' 'constitucional' 'organica' 'fuerza' 'texto' 'decreto' 'electoral'\n",
      " 'articulo' 'general']\n",
      "Topic 6 ['presidente' 'republica' 'diputados' 'congreso' 'anos' 'camara' 'corte'\n",
      " 'cargo' 'si']\n"
     ]
    }
   ],
   "source": [
    "#  Define the number of Words that we want to print in every topic : n_top_words\n",
    "n_top_words = 10\n",
    "\n",
    "for i, topic_dist in enumerate(topic_words):\n",
    "    \n",
    "    # np.argsort to sorting an array or a list or the matrix acc to their values\n",
    "    sorted_topic_dist = np.argsort(topic_dist)\n",
    "    \n",
    "    # Next, to view the actual words present in those indexes we can make the use of the vocab created earlier\n",
    "    topic_words = np.array(vocab_cv)[sorted_topic_dist]\n",
    "    \n",
    "    # so using the sorted_topic_indexes we ar extracting the words from the vocabulary\n",
    "    # obtaining topics + words\n",
    "    # this topic_words variable contains the Topics  as well as the respective words present in those Topics\n",
    "    topic_words = topic_words[:-n_top_words:-1]\n",
    "    print (\"Topic\", str(i), topic_words)"
   ]
  },
  {
   "cell_type": "markdown",
   "id": "6792ed07-e7bc-42c2-bde2-2bf882c6d4fe",
   "metadata": {},
   "source": [
    "Creando df de tópicos"
   ]
  },
  {
   "cell_type": "code",
   "execution_count": 21,
   "id": "ba3467b7-6568-4be1-a4c0-4eb7149b1476",
   "metadata": {},
   "outputs": [],
   "source": [
    "df_topicos = pd.DataFrame(X_topics)\n",
    "df_topicos.columns = ['Topic 0', 'Topic 1', 'Topic 2', 'Topic 3','Topic 4','Topic 5','Topic 6']"
   ]
  },
  {
   "cell_type": "markdown",
   "id": "7c978d89-27f4-4adf-9730-cca0a13472b0",
   "metadata": {},
   "source": [
    "Agrando los tópicos al df original"
   ]
  },
  {
   "cell_type": "code",
   "execution_count": 22,
   "id": "a145dc37-583d-4b57-81e3-186808f27db3",
   "metadata": {},
   "outputs": [],
   "source": [
    "df_con_topicos = pd.merge(df, df_topicos, left_index = True, right_index = True)\n",
    "df_con_topicos['max_topic'] = X_topics.argmax(axis = 1)"
   ]
  },
  {
   "cell_type": "markdown",
   "id": "bc88d443-5197-4713-b165-2ec862f1cff6",
   "metadata": {},
   "source": [
    "### Cuanto aparece cada tópico en cada constitución?"
   ]
  },
  {
   "cell_type": "code",
   "execution_count": 30,
   "id": "2c997211-b8f2-4dff-9e77-9b64c78cdc4c",
   "metadata": {},
   "outputs": [
    {
     "data": {
      "text/html": [
       "<div>\n",
       "<style scoped>\n",
       "    .dataframe tbody tr th:only-of-type {\n",
       "        vertical-align: middle;\n",
       "    }\n",
       "\n",
       "    .dataframe tbody tr th {\n",
       "        vertical-align: top;\n",
       "    }\n",
       "\n",
       "    .dataframe thead th {\n",
       "        text-align: right;\n",
       "    }\n",
       "</style>\n",
       "<table border=\"1\" class=\"dataframe\">\n",
       "  <thead>\n",
       "    <tr style=\"text-align: right;\">\n",
       "      <th></th>\n",
       "      <th>titulo_capitulo</th>\n",
       "      <th>max_topic</th>\n",
       "      <th>peso</th>\n",
       "    </tr>\n",
       "  </thead>\n",
       "  <tbody>\n",
       "    <tr>\n",
       "      <th>0</th>\n",
       "      <td>Buen Gobierno y Función Pública</td>\n",
       "      <td>0</td>\n",
       "      <td>0.006791</td>\n",
       "    </tr>\n",
       "    <tr>\n",
       "      <th>1</th>\n",
       "      <td>Buen Gobierno y Función Pública</td>\n",
       "      <td>1</td>\n",
       "      <td>0.001698</td>\n",
       "    </tr>\n",
       "    <tr>\n",
       "      <th>2</th>\n",
       "      <td>Buen Gobierno y Función Pública</td>\n",
       "      <td>2</td>\n",
       "      <td>0.013016</td>\n",
       "    </tr>\n",
       "    <tr>\n",
       "      <th>3</th>\n",
       "      <td>Buen Gobierno y Función Pública</td>\n",
       "      <td>3</td>\n",
       "      <td>0.013016</td>\n",
       "    </tr>\n",
       "    <tr>\n",
       "      <th>4</th>\n",
       "      <td>Buen Gobierno y Función Pública</td>\n",
       "      <td>4</td>\n",
       "      <td>0.004527</td>\n",
       "    </tr>\n",
       "    <tr>\n",
       "      <th>...</th>\n",
       "      <td>...</td>\n",
       "      <td>...</td>\n",
       "      <td>...</td>\n",
       "    </tr>\n",
       "    <tr>\n",
       "      <th>76</th>\n",
       "      <td>Órganos Autónomos Constitucionales</td>\n",
       "      <td>2</td>\n",
       "      <td>0.021505</td>\n",
       "    </tr>\n",
       "    <tr>\n",
       "      <th>77</th>\n",
       "      <td>Órganos Autónomos Constitucionales</td>\n",
       "      <td>3</td>\n",
       "      <td>0.019242</td>\n",
       "    </tr>\n",
       "    <tr>\n",
       "      <th>78</th>\n",
       "      <td>Órganos Autónomos Constitucionales</td>\n",
       "      <td>4</td>\n",
       "      <td>0.004527</td>\n",
       "    </tr>\n",
       "    <tr>\n",
       "      <th>79</th>\n",
       "      <td>Órganos Autónomos Constitucionales</td>\n",
       "      <td>5</td>\n",
       "      <td>0.002830</td>\n",
       "    </tr>\n",
       "    <tr>\n",
       "      <th>80</th>\n",
       "      <td>Órganos Autónomos Constitucionales</td>\n",
       "      <td>6</td>\n",
       "      <td>0.024901</td>\n",
       "    </tr>\n",
       "  </tbody>\n",
       "</table>\n",
       "<p>81 rows × 3 columns</p>\n",
       "</div>"
      ],
      "text/plain": [
       "                       titulo_capitulo  max_topic      peso\n",
       "0      Buen Gobierno y Función Pública          0  0.006791\n",
       "1      Buen Gobierno y Función Pública          1  0.001698\n",
       "2      Buen Gobierno y Función Pública          2  0.013016\n",
       "3      Buen Gobierno y Función Pública          3  0.013016\n",
       "4      Buen Gobierno y Función Pública          4  0.004527\n",
       "..                                 ...        ...       ...\n",
       "76  Órganos Autónomos Constitucionales          2  0.021505\n",
       "77  Órganos Autónomos Constitucionales          3  0.019242\n",
       "78  Órganos Autónomos Constitucionales          4  0.004527\n",
       "79  Órganos Autónomos Constitucionales          5  0.002830\n",
       "80  Órganos Autónomos Constitucionales          6  0.024901\n",
       "\n",
       "[81 rows x 3 columns]"
      ]
     },
     "execution_count": 30,
     "metadata": {},
     "output_type": "execute_result"
    }
   ],
   "source": [
    "temp = df_con_topicos[df_con_topicos['constitucion']=='Propuesta'].groupby(['titulo_capitulo','max_topic'])['texto'].count().reset_index()\n",
    "temp['peso'] = temp['texto']/temp['texto'].sum()\n",
    "temp[['titulo_capitulo','max_topic','peso']]"
   ]
  },
  {
   "cell_type": "code",
   "execution_count": 31,
   "id": "8f037b34-2328-47c7-921c-6c212fe67570",
   "metadata": {},
   "outputs": [
    {
     "data": {
      "text/html": [
       "<div>\n",
       "<style scoped>\n",
       "    .dataframe tbody tr th:only-of-type {\n",
       "        vertical-align: middle;\n",
       "    }\n",
       "\n",
       "    .dataframe tbody tr th {\n",
       "        vertical-align: top;\n",
       "    }\n",
       "\n",
       "    .dataframe thead th {\n",
       "        text-align: right;\n",
       "    }\n",
       "</style>\n",
       "<table border=\"1\" class=\"dataframe\">\n",
       "  <thead>\n",
       "    <tr style=\"text-align: right;\">\n",
       "      <th></th>\n",
       "      <th>titulo_capitulo</th>\n",
       "      <th>max_topic</th>\n",
       "      <th>peso</th>\n",
       "    </tr>\n",
       "  </thead>\n",
       "  <tbody>\n",
       "    <tr>\n",
       "      <th>0</th>\n",
       "      <td>BANCO CENTRAL</td>\n",
       "      <td>0</td>\n",
       "      <td>0.002347</td>\n",
       "    </tr>\n",
       "    <tr>\n",
       "      <th>1</th>\n",
       "      <td>BANCO CENTRAL</td>\n",
       "      <td>3</td>\n",
       "      <td>0.002347</td>\n",
       "    </tr>\n",
       "    <tr>\n",
       "      <th>2</th>\n",
       "      <td>BANCO CENTRAL</td>\n",
       "      <td>4</td>\n",
       "      <td>0.001174</td>\n",
       "    </tr>\n",
       "    <tr>\n",
       "      <th>3</th>\n",
       "      <td>BANCO CENTRAL</td>\n",
       "      <td>5</td>\n",
       "      <td>0.001174</td>\n",
       "    </tr>\n",
       "    <tr>\n",
       "      <th>4</th>\n",
       "      <td>BASES DE LA INSTITUCIONALIDAD</td>\n",
       "      <td>0</td>\n",
       "      <td>0.003521</td>\n",
       "    </tr>\n",
       "    <tr>\n",
       "      <th>...</th>\n",
       "      <td>...</td>\n",
       "      <td>...</td>\n",
       "      <td>...</td>\n",
       "    </tr>\n",
       "    <tr>\n",
       "      <th>87</th>\n",
       "      <td>TRIBUNAL CONSTITUCIONAL</td>\n",
       "      <td>1</td>\n",
       "      <td>0.004695</td>\n",
       "    </tr>\n",
       "    <tr>\n",
       "      <th>88</th>\n",
       "      <td>TRIBUNAL CONSTITUCIONAL</td>\n",
       "      <td>2</td>\n",
       "      <td>0.010563</td>\n",
       "    </tr>\n",
       "    <tr>\n",
       "      <th>89</th>\n",
       "      <td>TRIBUNAL CONSTITUCIONAL</td>\n",
       "      <td>4</td>\n",
       "      <td>0.001174</td>\n",
       "    </tr>\n",
       "    <tr>\n",
       "      <th>90</th>\n",
       "      <td>TRIBUNAL CONSTITUCIONAL</td>\n",
       "      <td>5</td>\n",
       "      <td>0.002347</td>\n",
       "    </tr>\n",
       "    <tr>\n",
       "      <th>91</th>\n",
       "      <td>TRIBUNAL CONSTITUCIONAL</td>\n",
       "      <td>6</td>\n",
       "      <td>0.036385</td>\n",
       "    </tr>\n",
       "  </tbody>\n",
       "</table>\n",
       "<p>92 rows × 3 columns</p>\n",
       "</div>"
      ],
      "text/plain": [
       "                  titulo_capitulo  max_topic      peso\n",
       "0                   BANCO CENTRAL          0  0.002347\n",
       "1                   BANCO CENTRAL          3  0.002347\n",
       "2                   BANCO CENTRAL          4  0.001174\n",
       "3                   BANCO CENTRAL          5  0.001174\n",
       "4   BASES DE LA INSTITUCIONALIDAD          0  0.003521\n",
       "..                            ...        ...       ...\n",
       "87        TRIBUNAL CONSTITUCIONAL          1  0.004695\n",
       "88        TRIBUNAL CONSTITUCIONAL          2  0.010563\n",
       "89        TRIBUNAL CONSTITUCIONAL          4  0.001174\n",
       "90        TRIBUNAL CONSTITUCIONAL          5  0.002347\n",
       "91        TRIBUNAL CONSTITUCIONAL          6  0.036385\n",
       "\n",
       "[92 rows x 3 columns]"
      ]
     },
     "execution_count": 31,
     "metadata": {},
     "output_type": "execute_result"
    }
   ],
   "source": [
    "temp = df_con_topicos[df_con_topicos['constitucion']!='Propuesta'].groupby(['titulo_capitulo','max_topic'])['texto'].count().reset_index()\n",
    "temp['peso'] = temp['texto']/temp['texto'].sum()\n",
    "temp[['titulo_capitulo','max_topic','peso']]"
   ]
  },
  {
   "cell_type": "code",
   "execution_count": null,
   "id": "5e9700cf-ca3e-4616-b42f-c871738247f8",
   "metadata": {},
   "outputs": [],
   "source": []
  }
 ],
 "metadata": {
  "kernelspec": {
   "display_name": "Python 3 (ipykernel)",
   "language": "python",
   "name": "python3"
  },
  "language_info": {
   "codemirror_mode": {
    "name": "ipython",
    "version": 3
   },
   "file_extension": ".py",
   "mimetype": "text/x-python",
   "name": "python",
   "nbconvert_exporter": "python",
   "pygments_lexer": "ipython3",
   "version": "3.8.13"
  },
  "vscode": {
   "interpreter": {
    "hash": "e26246e812aaebdf3dc86a2826240e61e5f1fe5eb286790142ecf57e427686af"
   }
  }
 },
 "nbformat": 4,
 "nbformat_minor": 5
}
