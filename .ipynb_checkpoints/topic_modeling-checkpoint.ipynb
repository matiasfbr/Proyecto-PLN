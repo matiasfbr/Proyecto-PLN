{
 "cells": [
  {
   "cell_type": "markdown",
   "id": "8002d947-4a33-4491-bb11-446f1ad9ebae",
   "metadata": {},
   "source": [
    "# Topic modeling"
   ]
  },
  {
   "cell_type": "markdown",
   "id": "f5b81dda-2972-4737-9491-69438099d4d8",
   "metadata": {},
   "source": [
    "## Comparación entre Propuesta de Constitución y Constitución Vigente"
   ]
  },
  {
   "cell_type": "markdown",
   "id": "b6fa0752-f43a-4d80-9675-a2c6f27875ca",
   "metadata": {},
   "source": [
    "### Librerías"
   ]
  },
  {
   "cell_type": "code",
   "execution_count": 1,
   "id": "41594d66-8785-45b7-a2e9-0c3e12227b5b",
   "metadata": {},
   "outputs": [],
   "source": [
    "import pandas as pd\n",
    "import numpy as np"
   ]
  },
  {
   "cell_type": "code",
   "execution_count": 2,
   "id": "7ab9bb3d-963f-48cd-8b59-03ac27fb40b4",
   "metadata": {},
   "outputs": [],
   "source": [
    "# for text preprocessing\n",
    "import re\n",
    "import spacy\n",
    "\n",
    "from nltk.corpus import stopwords \n",
    "from nltk.stem.wordnet import WordNetLemmatizer\n",
    "import string\n",
    "\n",
    "# import vectorizers\n",
    "from sklearn.feature_extraction.text import TfidfVectorizer, CountVectorizer"
   ]
  },
  {
   "cell_type": "code",
   "execution_count": 3,
   "id": "64a83416-054d-49cc-8fc1-db59022b48b9",
   "metadata": {},
   "outputs": [],
   "source": [
    "# import LDA from sklearn\n",
    "from sklearn.decomposition import LatentDirichletAllocation"
   ]
  },
  {
   "cell_type": "code",
   "execution_count": 4,
   "id": "b33da4fe-2438-46c9-9030-3873f6f0b5b4",
   "metadata": {},
   "outputs": [],
   "source": [
    "import warnings\n",
    "warnings.filterwarnings(\"ignore\")"
   ]
  },
  {
   "cell_type": "code",
   "execution_count": 5,
   "id": "4ba9e066-6978-485f-bd24-0fc1fa89532f",
   "metadata": {},
   "outputs": [],
   "source": [
    "esp_stop = stopwords.words('spanish')\n",
    "esp_stop = esp_stop + ['ser','tener','deber']"
   ]
  },
  {
   "cell_type": "markdown",
   "id": "6836bc51-7277-497e-94b2-303184657471",
   "metadata": {
    "tags": []
   },
   "source": [
    "## Funciones"
   ]
  },
  {
   "cell_type": "code",
   "execution_count": 6,
   "id": "b490fa7e-4254-4a84-96b6-079cbd805c68",
   "metadata": {},
   "outputs": [],
   "source": [
    "def delete_stopwords(text):\n",
    "    \"\"\"\n",
    "    Función para eliminar stopwords del texto\n",
    "    \"\"\"\n",
    "    doc = nlp(text)\n",
    "    return ' '.join([word.text for word in doc if word.text not in esp_stop])"
   ]
  },
  {
   "cell_type": "code",
   "execution_count": 7,
   "id": "0f83da13-1245-40a8-ac33-f76377f959fc",
   "metadata": {},
   "outputs": [],
   "source": [
    "def cleaner(df, text):\n",
    "    \"\"\"\n",
    "    Función para dejar las palabras en minúscula, eliminar números, puntuación, espacios y saltos de línea.\n",
    "    \"\"\"\n",
    "    df[text] = df[text].str.lower()\n",
    "    df[text] = df[text].apply(lambda x: re.sub(\"[0-9]\", '', str(x)))\n",
    "    df[text] = df[text].str.translate(str.maketrans(' ', ' ', string.punctuation))\n",
    "    df[text] = df[text].str.replace('\\n',' ')\n",
    "    df[text] = df[text].str.replace('nº','')\n",
    "    df[text] = df[text].str.replace('n°','')\n",
    "    df[text] = df[text].str.replace('n º','')\n",
    "    df[text] = df[text].str.replace('n °','')\n",
    "    df[text] = df[text].str.replace('º','')\n",
    "    df[text] = df[text].str.replace('°','')\n",
    "    df[text] = df[text].str.strip()\n",
    "    df[text] = df[text].str.normalize('NFKD').str.encode('ascii', errors='ignore').str.decode('utf-8')  # Eliminación de acentos\n",
    "    "
   ]
  },
  {
   "cell_type": "code",
   "execution_count": 8,
   "id": "b3ed72c4-7c44-4fd9-983e-31d6a9e5275e",
   "metadata": {},
   "outputs": [],
   "source": [
    "def wordcloud(data):\n",
    "    \"\"\"\n",
    "    Función para graficar un wordcloud\n",
    "    \"\"\"\n",
    "    wc = WordCloud(background_color='white',width=800, height=400, max_words=200, colormap = 'plasma').generate_from_frequencies(data)\n",
    "    plt.figure(figsize=(15, 10))\n",
    "    plt.imshow(wc, interpolation='bilinear')\n",
    "    plt.axis('off')\n",
    "    plt.show()"
   ]
  },
  {
   "cell_type": "markdown",
   "id": "446eb308-fffd-419a-9281-2efa3406c770",
   "metadata": {},
   "source": [
    "### Importando textos ya digitalizados"
   ]
  },
  {
   "cell_type": "code",
   "execution_count": 9,
   "id": "b362d3f5-0836-4a58-9cd2-03c20193671a",
   "metadata": {},
   "outputs": [],
   "source": [
    "df_propuesta = pd.read_csv('data/processed/constitucion_propuesta.csv')\n",
    "df_propuesta.rename(columns = {'articulo':'nro_articulo'}, inplace = True)\n",
    "df_propuesta['constitucion'] = 'Propuesta'\n",
    "df_propuesta = df_propuesta[df_propuesta['capitulo']!='Convención Constitucional']\n",
    "\n",
    "df_vigente = pd.read_csv('data/processed/constitucion_actual.csv')\n",
    "df_vigente.drop(columns = 'id', inplace = True)\n",
    "df_vigente['constitucion'] = 'Vigente'\n",
    "\n",
    "df = pd.concat([df_vigente,df_propuesta])\n",
    "\n",
    "df = df[['constitucion','capitulo', 'titulo_capitulo', 'nro_articulo', 'texto']]"
   ]
  },
  {
   "cell_type": "code",
   "execution_count": 10,
   "id": "38efe651-bc4b-47ea-8806-46bc8793178e",
   "metadata": {},
   "outputs": [],
   "source": [
    "df.reset_index(drop = True, inplace = True)"
   ]
  },
  {
   "cell_type": "code",
   "execution_count": 11,
   "id": "0763f1ca-35df-4b8e-9376-b206b34667c0",
   "metadata": {},
   "outputs": [
    {
     "data": {
      "text/html": [
       "<div>\n",
       "<style scoped>\n",
       "    .dataframe tbody tr th:only-of-type {\n",
       "        vertical-align: middle;\n",
       "    }\n",
       "\n",
       "    .dataframe tbody tr th {\n",
       "        vertical-align: top;\n",
       "    }\n",
       "\n",
       "    .dataframe thead th {\n",
       "        text-align: right;\n",
       "    }\n",
       "</style>\n",
       "<table border=\"1\" class=\"dataframe\">\n",
       "  <thead>\n",
       "    <tr style=\"text-align: right;\">\n",
       "      <th></th>\n",
       "      <th>constitucion</th>\n",
       "      <th>capitulo</th>\n",
       "      <th>titulo_capitulo</th>\n",
       "      <th>nro_articulo</th>\n",
       "      <th>texto</th>\n",
       "    </tr>\n",
       "  </thead>\n",
       "  <tbody>\n",
       "    <tr>\n",
       "      <th>2426</th>\n",
       "      <td>Propuesta</td>\n",
       "      <td>Capítulo XI</td>\n",
       "      <td>Reforma y Reemplazo de la Constitución</td>\n",
       "      <td>Artículo 383</td>\n",
       "      <td>3. El referéndum se realizará en la forma qu...</td>\n",
       "    </tr>\n",
       "    <tr>\n",
       "      <th>145</th>\n",
       "      <td>Vigente</td>\n",
       "      <td>Capítulo III</td>\n",
       "      <td>DE LOS DERECHOS Y DEBERES CONSTITUCIONALES</td>\n",
       "      <td>Artículo 19</td>\n",
       "      <td>La ley contemplará los mecanismos que aseguren...</td>\n",
       "    </tr>\n",
       "    <tr>\n",
       "      <th>2218</th>\n",
       "      <td>Propuesta</td>\n",
       "      <td>Capítulo IX</td>\n",
       "      <td>Sistemas de Justicia</td>\n",
       "      <td>Artículo 307</td>\n",
       "      <td>- k) Dictar instrucciones relativas a la organ...</td>\n",
       "    </tr>\n",
       "  </tbody>\n",
       "</table>\n",
       "</div>"
      ],
      "text/plain": [
       "     constitucion      capitulo                             titulo_capitulo  \\\n",
       "2426    Propuesta   Capítulo XI      Reforma y Reemplazo de la Constitución   \n",
       "145       Vigente  Capítulo III  DE LOS DERECHOS Y DEBERES CONSTITUCIONALES   \n",
       "2218    Propuesta   Capítulo IX                        Sistemas de Justicia   \n",
       "\n",
       "      nro_articulo                                              texto  \n",
       "2426  Artículo 383  3. El referéndum se realizará en la forma qu...  \n",
       "145    Artículo 19  La ley contemplará los mecanismos que aseguren...  \n",
       "2218  Artículo 307  - k) Dictar instrucciones relativas a la organ...  "
      ]
     },
     "execution_count": 11,
     "metadata": {},
     "output_type": "execute_result"
    }
   ],
   "source": [
    "df.sample(3)"
   ]
  },
  {
   "cell_type": "markdown",
   "id": "d6300d10-50fc-4679-a52b-30ec7ee65849",
   "metadata": {},
   "source": [
    "### Desarrollo"
   ]
  },
  {
   "cell_type": "markdown",
   "id": "feb4bf23-944f-44bb-8452-81f168060220",
   "metadata": {},
   "source": [
    "Basado en: https://github.com/sethns/Latent-Dirichlet-Allocation-LDA-/blob/main/Topic%20Modeling%20_%20Extracting%20Topics_%20Using%20Sklearn.ipynb"
   ]
  },
  {
   "cell_type": "markdown",
   "id": "cfac0f17-b8b5-439a-ac30-ceba16b07783",
   "metadata": {},
   "source": [
    "Definiendo nlp"
   ]
  },
  {
   "cell_type": "code",
   "execution_count": 12,
   "id": "258de67e-f68c-42c3-a1cc-46fb3860be7e",
   "metadata": {},
   "outputs": [],
   "source": [
    "nlp = spacy.load('es_core_news_sm')"
   ]
  },
  {
   "cell_type": "markdown",
   "id": "f93d0ab3-6fbc-4df6-a4ad-6bd5517b4b49",
   "metadata": {},
   "source": [
    "Limpiando texto"
   ]
  },
  {
   "cell_type": "code",
   "execution_count": 13,
   "id": "df6f6493-073a-4293-8d5e-4874ff29775e",
   "metadata": {},
   "outputs": [],
   "source": [
    "cleaner(df, 'texto')"
   ]
  },
  {
   "cell_type": "code",
   "execution_count": 14,
   "id": "cba3b414-109a-456b-b7d7-ebbd1bb52c39",
   "metadata": {},
   "outputs": [],
   "source": [
    "df['texto_clean'] = df['texto'].apply(lambda x: delete_stopwords(x))"
   ]
  },
  {
   "cell_type": "code",
   "execution_count": 15,
   "id": "8088947f-c3f7-4412-b2ec-9bc4bbd62245",
   "metadata": {},
   "outputs": [
    {
     "data": {
      "text/html": [
       "<div>\n",
       "<style scoped>\n",
       "    .dataframe tbody tr th:only-of-type {\n",
       "        vertical-align: middle;\n",
       "    }\n",
       "\n",
       "    .dataframe tbody tr th {\n",
       "        vertical-align: top;\n",
       "    }\n",
       "\n",
       "    .dataframe thead th {\n",
       "        text-align: right;\n",
       "    }\n",
       "</style>\n",
       "<table border=\"1\" class=\"dataframe\">\n",
       "  <thead>\n",
       "    <tr style=\"text-align: right;\">\n",
       "      <th></th>\n",
       "      <th>constitucion</th>\n",
       "      <th>capitulo</th>\n",
       "      <th>titulo_capitulo</th>\n",
       "      <th>nro_articulo</th>\n",
       "      <th>texto</th>\n",
       "      <th>texto_clean</th>\n",
       "    </tr>\n",
       "  </thead>\n",
       "  <tbody>\n",
       "    <tr>\n",
       "      <th>2415</th>\n",
       "      <td>Propuesta</td>\n",
       "      <td>Capítulo X</td>\n",
       "      <td>Órganos Autónomos Constitucionales</td>\n",
       "      <td>Artículo 307</td>\n",
       "      <td>la corte constitucional solo podra acoger la i...</td>\n",
       "      <td>corte constitucional solo podra acoger inconst...</td>\n",
       "    </tr>\n",
       "  </tbody>\n",
       "</table>\n",
       "</div>"
      ],
      "text/plain": [
       "     constitucion    capitulo                     titulo_capitulo  \\\n",
       "2415    Propuesta  Capítulo X  Órganos Autónomos Constitucionales   \n",
       "\n",
       "      nro_articulo                                              texto  \\\n",
       "2415  Artículo 307  la corte constitucional solo podra acoger la i...   \n",
       "\n",
       "                                            texto_clean  \n",
       "2415  corte constitucional solo podra acoger inconst...  "
      ]
     },
     "execution_count": 15,
     "metadata": {},
     "output_type": "execute_result"
    }
   ],
   "source": [
    "df.sample()"
   ]
  },
  {
   "cell_type": "code",
   "execution_count": 17,
   "id": "a294f6bf-47c5-4d4b-9e35-750288f3f3a6",
   "metadata": {},
   "outputs": [],
   "source": [
    "cv_vectorizer = CountVectorizer(ngram_range = (1,2))\n",
    "cv_arr = cv_vectorizer.fit_transform(df['texto_clean'])"
   ]
  },
  {
   "cell_type": "code",
   "execution_count": 18,
   "id": "6cf869b4-a4e5-41c9-928b-16ab646323b2",
   "metadata": {},
   "outputs": [
    {
     "data": {
      "text/plain": [
       "<2619x31536 sparse matrix of type '<class 'numpy.int64'>'\n",
       "\twith 81851 stored elements in Compressed Sparse Row format>"
      ]
     },
     "execution_count": 18,
     "metadata": {},
     "output_type": "execute_result"
    }
   ],
   "source": [
    "cv_arr"
   ]
  },
  {
   "cell_type": "code",
   "execution_count": 19,
   "id": "cbf0c902-4555-4527-a14a-34f56b631545",
   "metadata": {},
   "outputs": [
    {
     "data": {
      "text/plain": [
       "['abandono',\n",
       " 'abandono deberes',\n",
       " 'abastecer',\n",
       " 'abastecer sectores',\n",
       " 'abastecimiento',\n",
       " 'abastecimiento comunidades',\n",
       " 'abastecimiento poblacion',\n",
       " 'abierta',\n",
       " 'abierta manifiesta',\n",
       " 'abiertamente']"
      ]
     },
     "execution_count": 19,
     "metadata": {},
     "output_type": "execute_result"
    }
   ],
   "source": [
    "# Creating vocabulary array which will represent all the corpus \n",
    "vocab_cv = cv_vectorizer.get_feature_names()\n",
    "\n",
    "# get the vocb list\n",
    "vocab_cv[:10]"
   ]
  },
  {
   "cell_type": "markdown",
   "id": "a29e4118-52a1-40dd-bd36-0faf84071a02",
   "metadata": {},
   "source": [
    "### Implementando LDA"
   ]
  },
  {
   "cell_type": "code",
   "execution_count": 20,
   "id": "5fc1e630-973e-4299-96c0-4b49b0c6d107",
   "metadata": {},
   "outputs": [],
   "source": [
    "# Implementation of LDA:\n",
    "    \n",
    "# Create object for the LDA class \n",
    "# Inside this class LDA: define the components:\n",
    "lda_model = LatentDirichletAllocation(n_components = 6, max_iter = 20, random_state = 20)\n",
    "\n",
    "# fit transform on model on our count_vectorizer : running this will return our topics \n",
    "X_topics = lda_model.fit_transform(cv_arr)\n",
    "\n",
    "# .components_ gives us our topic distribution \n",
    "topic_words = lda_model.components_\n",
    "\n"
   ]
  },
  {
   "cell_type": "code",
   "execution_count": 21,
   "id": "70a05108-0d68-4f9e-b5d1-4bd75b03cf10",
   "metadata": {},
   "outputs": [
    {
     "name": "stdout",
     "output_type": "stream",
     "text": [
      "Topic 0 ['ley' 'constitucion' 'derechos' 'podra' 'nacional' 'indigenas' 'publico'\n",
      " 'derecho' 'caso']\n",
      "Topic 1 ['articulo' 'ley' 'constitucional' 'constitucion' 'organica'\n",
      " 'ley organica' 'organica constitucional' 'podra' 'republica']\n",
      "Topic 2 ['ley' 'derecho' 'constitucion' 'podra' 'dentro' 'tribunal' 'nacional'\n",
      " 'caso' 'dias']\n",
      "Topic 3 ['ley' 'presidente' 'ejercicio' 'republica' 'constitucion'\n",
      " 'presidente republica' 'diputados' 'cargo' 'derecho']\n",
      "Topic 4 ['regional' 'ley' 'constitucion' 'podran' 'derechos' 'derecho' 'personas'\n",
      " 'podra' 'republica']\n",
      "Topic 5 ['ley' 'congreso' 'presidente' 'republica' 'diputados'\n",
      " 'presidente republica' 'diputadas' 'diputadas diputados' 'camara']\n"
     ]
    }
   ],
   "source": [
    "#  Define the number of Words that we want to print in every topic : n_top_words\n",
    "n_top_words = 10\n",
    "\n",
    "for i, topic_dist in enumerate(topic_words):\n",
    "    \n",
    "    # np.argsort to sorting an array or a list or the matrix acc to their values\n",
    "    sorted_topic_dist = np.argsort(topic_dist)\n",
    "    \n",
    "    # Next, to view the actual words present in those indexes we can make the use of the vocab created earlier\n",
    "    topic_words = np.array(vocab_cv)[sorted_topic_dist]\n",
    "    \n",
    "    # so using the sorted_topic_indexes we ar extracting the words from the vocabulary\n",
    "    # obtaining topics + words\n",
    "    # this topic_words variable contains the Topics  as well as the respective words present in those Topics\n",
    "    topic_words = topic_words[:-n_top_words:-1]\n",
    "    print (\"Topic\", str(i), topic_words)"
   ]
  },
  {
   "cell_type": "markdown",
   "id": "6792ed07-e7bc-42c2-bde2-2bf882c6d4fe",
   "metadata": {},
   "source": [
    "Creando df de tópicos"
   ]
  },
  {
   "cell_type": "code",
   "execution_count": 22,
   "id": "ba3467b7-6568-4be1-a4c0-4eb7149b1476",
   "metadata": {},
   "outputs": [],
   "source": [
    "df_topicos = pd.DataFrame(X_topics)\n",
    "df_topicos.columns = ['Topic 0', 'Topic 1', 'Topic 2', 'Topic 3', 'Topic 4', 'Topic 5']"
   ]
  },
  {
   "cell_type": "markdown",
   "id": "7c978d89-27f4-4adf-9730-cca0a13472b0",
   "metadata": {},
   "source": [
    "Agrando los tópicos al df original"
   ]
  },
  {
   "cell_type": "code",
   "execution_count": 23,
   "id": "a145dc37-583d-4b57-81e3-186808f27db3",
   "metadata": {},
   "outputs": [],
   "source": [
    "df_con_topicos = pd.merge(df, df_topicos, left_index = True, right_index = True)"
   ]
  },
  {
   "cell_type": "code",
   "execution_count": 24,
   "id": "74af72c2-0899-4df8-995a-8f093a59b299",
   "metadata": {},
   "outputs": [],
   "source": [
    "df_con_topicos['max_topic'] = X_topics.argmax(axis = 1)"
   ]
  },
  {
   "cell_type": "code",
   "execution_count": 25,
   "id": "93f9ccf6-b131-4703-b387-7a779c9e1ea0",
   "metadata": {},
   "outputs": [
    {
     "data": {
      "text/html": [
       "<div>\n",
       "<style scoped>\n",
       "    .dataframe tbody tr th:only-of-type {\n",
       "        vertical-align: middle;\n",
       "    }\n",
       "\n",
       "    .dataframe tbody tr th {\n",
       "        vertical-align: top;\n",
       "    }\n",
       "\n",
       "    .dataframe thead th {\n",
       "        text-align: right;\n",
       "    }\n",
       "</style>\n",
       "<table border=\"1\" class=\"dataframe\">\n",
       "  <thead>\n",
       "    <tr style=\"text-align: right;\">\n",
       "      <th></th>\n",
       "      <th>constitucion</th>\n",
       "      <th>capitulo</th>\n",
       "      <th>titulo_capitulo</th>\n",
       "      <th>nro_articulo</th>\n",
       "      <th>texto</th>\n",
       "      <th>texto_clean</th>\n",
       "      <th>Topic 0</th>\n",
       "      <th>Topic 1</th>\n",
       "      <th>Topic 2</th>\n",
       "      <th>Topic 3</th>\n",
       "      <th>Topic 4</th>\n",
       "      <th>Topic 5</th>\n",
       "      <th>max_topic</th>\n",
       "    </tr>\n",
       "  </thead>\n",
       "  <tbody>\n",
       "    <tr>\n",
       "      <th>2416</th>\n",
       "      <td>Propuesta</td>\n",
       "      <td>Capítulo X</td>\n",
       "      <td>Órganos Autónomos Constitucionales</td>\n",
       "      <td>Artículo 307</td>\n",
       "      <td>declarada la inaplicabilidad de un precepto le...</td>\n",
       "      <td>declarada inaplicabilidad precepto legal podra...</td>\n",
       "      <td>0.007602</td>\n",
       "      <td>0.007596</td>\n",
       "      <td>0.007603</td>\n",
       "      <td>0.007610</td>\n",
       "      <td>0.961996</td>\n",
       "      <td>0.007592</td>\n",
       "      <td>4</td>\n",
       "    </tr>\n",
       "    <tr>\n",
       "      <th>1684</th>\n",
       "      <td>Propuesta</td>\n",
       "      <td>Capítulo VI</td>\n",
       "      <td>Estado Regional y Organización Territorial</td>\n",
       "      <td>Artículo 164</td>\n",
       "      <td>las entidades territoriales autonomas cuentan ...</td>\n",
       "      <td>entidades territoriales autonomas cuentan auto...</td>\n",
       "      <td>0.003485</td>\n",
       "      <td>0.003496</td>\n",
       "      <td>0.003488</td>\n",
       "      <td>0.003493</td>\n",
       "      <td>0.982541</td>\n",
       "      <td>0.003497</td>\n",
       "      <td>4</td>\n",
       "    </tr>\n",
       "    <tr>\n",
       "      <th>1279</th>\n",
       "      <td>Propuesta</td>\n",
       "      <td>Capítulo III</td>\n",
       "      <td>Naturaleza y Medioambiente</td>\n",
       "      <td>Artículo 144</td>\n",
       "      <td>e coordinar y elaborar un sistema unificado de...</td>\n",
       "      <td>coordinar elaborar sistema unificado informaci...</td>\n",
       "      <td>0.011985</td>\n",
       "      <td>0.011945</td>\n",
       "      <td>0.940186</td>\n",
       "      <td>0.011933</td>\n",
       "      <td>0.011958</td>\n",
       "      <td>0.011993</td>\n",
       "      <td>2</td>\n",
       "    </tr>\n",
       "  </tbody>\n",
       "</table>\n",
       "</div>"
      ],
      "text/plain": [
       "     constitucion      capitulo                             titulo_capitulo  \\\n",
       "2416    Propuesta    Capítulo X          Órganos Autónomos Constitucionales   \n",
       "1684    Propuesta   Capítulo VI  Estado Regional y Organización Territorial   \n",
       "1279    Propuesta  Capítulo III                  Naturaleza y Medioambiente   \n",
       "\n",
       "      nro_articulo                                              texto  \\\n",
       "2416  Artículo 307  declarada la inaplicabilidad de un precepto le...   \n",
       "1684  Artículo 164  las entidades territoriales autonomas cuentan ...   \n",
       "1279  Artículo 144  e coordinar y elaborar un sistema unificado de...   \n",
       "\n",
       "                                            texto_clean   Topic 0   Topic 1  \\\n",
       "2416  declarada inaplicabilidad precepto legal podra...  0.007602  0.007596   \n",
       "1684  entidades territoriales autonomas cuentan auto...  0.003485  0.003496   \n",
       "1279  coordinar elaborar sistema unificado informaci...  0.011985  0.011945   \n",
       "\n",
       "       Topic 2   Topic 3   Topic 4   Topic 5  max_topic  \n",
       "2416  0.007603  0.007610  0.961996  0.007592          4  \n",
       "1684  0.003488  0.003493  0.982541  0.003497          4  \n",
       "1279  0.940186  0.011933  0.011958  0.011993          2  "
      ]
     },
     "execution_count": 25,
     "metadata": {},
     "output_type": "execute_result"
    }
   ],
   "source": [
    "df_con_topicos.sample(3)"
   ]
  },
  {
   "cell_type": "markdown",
   "id": "bc88d443-5197-4713-b165-2ec862f1cff6",
   "metadata": {},
   "source": [
    "Cuanto aparece cada tópico en cada constitución?"
   ]
  },
  {
   "cell_type": "code",
   "execution_count": 32,
   "id": "2c997211-b8f2-4dff-9e77-9b64c78cdc4c",
   "metadata": {},
   "outputs": [
    {
     "data": {
      "text/html": [
       "<div>\n",
       "<style scoped>\n",
       "    .dataframe tbody tr th:only-of-type {\n",
       "        vertical-align: middle;\n",
       "    }\n",
       "\n",
       "    .dataframe tbody tr th {\n",
       "        vertical-align: top;\n",
       "    }\n",
       "\n",
       "    .dataframe thead th {\n",
       "        text-align: right;\n",
       "    }\n",
       "</style>\n",
       "<table border=\"1\" class=\"dataframe\">\n",
       "  <thead>\n",
       "    <tr style=\"text-align: right;\">\n",
       "      <th></th>\n",
       "      <th>constitucion</th>\n",
       "      <th>max_topic</th>\n",
       "      <th>texto</th>\n",
       "      <th>peso</th>\n",
       "    </tr>\n",
       "  </thead>\n",
       "  <tbody>\n",
       "    <tr>\n",
       "      <th>0</th>\n",
       "      <td>Propuesta</td>\n",
       "      <td>0</td>\n",
       "      <td>222</td>\n",
       "      <td>0.125637</td>\n",
       "    </tr>\n",
       "    <tr>\n",
       "      <th>1</th>\n",
       "      <td>Propuesta</td>\n",
       "      <td>1</td>\n",
       "      <td>484</td>\n",
       "      <td>0.273911</td>\n",
       "    </tr>\n",
       "    <tr>\n",
       "      <th>2</th>\n",
       "      <td>Propuesta</td>\n",
       "      <td>2</td>\n",
       "      <td>231</td>\n",
       "      <td>0.130730</td>\n",
       "    </tr>\n",
       "    <tr>\n",
       "      <th>3</th>\n",
       "      <td>Propuesta</td>\n",
       "      <td>3</td>\n",
       "      <td>272</td>\n",
       "      <td>0.153933</td>\n",
       "    </tr>\n",
       "    <tr>\n",
       "      <th>4</th>\n",
       "      <td>Propuesta</td>\n",
       "      <td>4</td>\n",
       "      <td>259</td>\n",
       "      <td>0.146576</td>\n",
       "    </tr>\n",
       "    <tr>\n",
       "      <th>5</th>\n",
       "      <td>Propuesta</td>\n",
       "      <td>5</td>\n",
       "      <td>299</td>\n",
       "      <td>0.169213</td>\n",
       "    </tr>\n",
       "  </tbody>\n",
       "</table>\n",
       "</div>"
      ],
      "text/plain": [
       "  constitucion  max_topic  texto      peso\n",
       "0    Propuesta          0    222  0.125637\n",
       "1    Propuesta          1    484  0.273911\n",
       "2    Propuesta          2    231  0.130730\n",
       "3    Propuesta          3    272  0.153933\n",
       "4    Propuesta          4    259  0.146576\n",
       "5    Propuesta          5    299  0.169213"
      ]
     },
     "execution_count": 32,
     "metadata": {},
     "output_type": "execute_result"
    }
   ],
   "source": [
    "temp = df_con_topicos[df_con_topicos['constitucion']=='Propuesta'].groupby(['constitucion','max_topic'])['texto'].count().reset_index()\n",
    "temp['peso'] = temp['texto']/temp['texto'].sum()\n",
    "temp"
   ]
  },
  {
   "cell_type": "code",
   "execution_count": 33,
   "id": "8f037b34-2328-47c7-921c-6c212fe67570",
   "metadata": {},
   "outputs": [
    {
     "data": {
      "text/html": [
       "<div>\n",
       "<style scoped>\n",
       "    .dataframe tbody tr th:only-of-type {\n",
       "        vertical-align: middle;\n",
       "    }\n",
       "\n",
       "    .dataframe tbody tr th {\n",
       "        vertical-align: top;\n",
       "    }\n",
       "\n",
       "    .dataframe thead th {\n",
       "        text-align: right;\n",
       "    }\n",
       "</style>\n",
       "<table border=\"1\" class=\"dataframe\">\n",
       "  <thead>\n",
       "    <tr style=\"text-align: right;\">\n",
       "      <th></th>\n",
       "      <th>constitucion</th>\n",
       "      <th>max_topic</th>\n",
       "      <th>texto</th>\n",
       "      <th>peso</th>\n",
       "    </tr>\n",
       "  </thead>\n",
       "  <tbody>\n",
       "    <tr>\n",
       "      <th>0</th>\n",
       "      <td>Vigente</td>\n",
       "      <td>0</td>\n",
       "      <td>71</td>\n",
       "      <td>0.083333</td>\n",
       "    </tr>\n",
       "    <tr>\n",
       "      <th>1</th>\n",
       "      <td>Vigente</td>\n",
       "      <td>1</td>\n",
       "      <td>192</td>\n",
       "      <td>0.225352</td>\n",
       "    </tr>\n",
       "    <tr>\n",
       "      <th>2</th>\n",
       "      <td>Vigente</td>\n",
       "      <td>2</td>\n",
       "      <td>151</td>\n",
       "      <td>0.177230</td>\n",
       "    </tr>\n",
       "    <tr>\n",
       "      <th>3</th>\n",
       "      <td>Vigente</td>\n",
       "      <td>3</td>\n",
       "      <td>152</td>\n",
       "      <td>0.178404</td>\n",
       "    </tr>\n",
       "    <tr>\n",
       "      <th>4</th>\n",
       "      <td>Vigente</td>\n",
       "      <td>4</td>\n",
       "      <td>125</td>\n",
       "      <td>0.146714</td>\n",
       "    </tr>\n",
       "    <tr>\n",
       "      <th>5</th>\n",
       "      <td>Vigente</td>\n",
       "      <td>5</td>\n",
       "      <td>161</td>\n",
       "      <td>0.188967</td>\n",
       "    </tr>\n",
       "  </tbody>\n",
       "</table>\n",
       "</div>"
      ],
      "text/plain": [
       "  constitucion  max_topic  texto      peso\n",
       "0      Vigente          0     71  0.083333\n",
       "1      Vigente          1    192  0.225352\n",
       "2      Vigente          2    151  0.177230\n",
       "3      Vigente          3    152  0.178404\n",
       "4      Vigente          4    125  0.146714\n",
       "5      Vigente          5    161  0.188967"
      ]
     },
     "execution_count": 33,
     "metadata": {},
     "output_type": "execute_result"
    }
   ],
   "source": [
    "temp = df_con_topicos[df_con_topicos['constitucion']!='Propuesta'].groupby(['constitucion','max_topic'])['texto'].count().reset_index()\n",
    "temp['peso'] = temp['texto']/temp['texto'].sum()\n",
    "temp"
   ]
  },
  {
   "cell_type": "code",
   "execution_count": null,
   "id": "5e9700cf-ca3e-4616-b42f-c871738247f8",
   "metadata": {},
   "outputs": [],
   "source": []
  }
 ],
 "metadata": {
  "kernelspec": {
   "display_name": "Python 3 (ipykernel)",
   "language": "python",
   "name": "python3"
  },
  "language_info": {
   "codemirror_mode": {
    "name": "ipython",
    "version": 3
   },
   "file_extension": ".py",
   "mimetype": "text/x-python",
   "name": "python",
   "nbconvert_exporter": "python",
   "pygments_lexer": "ipython3",
   "version": "3.8.13"
  },
  "vscode": {
   "interpreter": {
    "hash": "e26246e812aaebdf3dc86a2826240e61e5f1fe5eb286790142ecf57e427686af"
   }
  }
 },
 "nbformat": 4,
 "nbformat_minor": 5
}
