{
 "cells": [
  {
   "cell_type": "markdown",
   "id": "8002d947-4a33-4491-bb11-446f1ad9ebae",
   "metadata": {},
   "source": [
    "# Topic modeling"
   ]
  },
  {
   "cell_type": "markdown",
   "id": "f5b81dda-2972-4737-9491-69438099d4d8",
   "metadata": {},
   "source": [
    "## Comparación entre Propuesta de Constitución y Constitución Vigente"
   ]
  },
  {
   "cell_type": "markdown",
   "id": "b6fa0752-f43a-4d80-9675-a2c6f27875ca",
   "metadata": {},
   "source": [
    "### Librerías"
   ]
  },
  {
   "cell_type": "code",
   "execution_count": 1,
   "id": "41594d66-8785-45b7-a2e9-0c3e12227b5b",
   "metadata": {},
   "outputs": [],
   "source": [
    "import pandas as pd\n",
    "import numpy as np"
   ]
  },
  {
   "cell_type": "code",
   "execution_count": 2,
   "id": "7ab9bb3d-963f-48cd-8b59-03ac27fb40b4",
   "metadata": {},
   "outputs": [],
   "source": [
    "# for text preprocessing\n",
    "import re\n",
    "import spacy\n",
    "\n",
    "from nltk.corpus import stopwords \n",
    "from nltk.stem.wordnet import WordNetLemmatizer\n",
    "import string\n",
    "\n",
    "# import vectorizers\n",
    "from sklearn.feature_extraction.text import TfidfVectorizer, CountVectorizer"
   ]
  },
  {
   "cell_type": "code",
   "execution_count": 3,
   "id": "64a83416-054d-49cc-8fc1-db59022b48b9",
   "metadata": {},
   "outputs": [],
   "source": [
    "# import LDA from sklearn\n",
    "from sklearn.decomposition import LatentDirichletAllocation"
   ]
  },
  {
   "cell_type": "code",
   "execution_count": 4,
   "id": "a566ef0c-a851-4eff-b9c9-15cf870dbbf0",
   "metadata": {},
   "outputs": [],
   "source": [
    "import networkx as nx"
   ]
  },
  {
   "cell_type": "code",
   "execution_count": 5,
   "id": "cca94761-c456-453d-bd99-e2a8afac54d4",
   "metadata": {},
   "outputs": [],
   "source": [
    "import matplotlib.pyplot as plt\n",
    "from matplotlib.pyplot import text\n",
    "import seaborn as sns"
   ]
  },
  {
   "cell_type": "code",
   "execution_count": 6,
   "id": "b33da4fe-2438-46c9-9030-3873f6f0b5b4",
   "metadata": {},
   "outputs": [],
   "source": [
    "import warnings\n",
    "warnings.filterwarnings(\"ignore\")"
   ]
  },
  {
   "cell_type": "code",
   "execution_count": 7,
   "id": "4ba9e066-6978-485f-bd24-0fc1fa89532f",
   "metadata": {},
   "outputs": [],
   "source": [
    "esp_stop = stopwords.words('spanish')\n",
    "esp_stop = esp_stop + ['ser','tener','deber']"
   ]
  },
  {
   "cell_type": "markdown",
   "id": "6836bc51-7277-497e-94b2-303184657471",
   "metadata": {
    "tags": []
   },
   "source": [
    "## Funciones"
   ]
  },
  {
   "cell_type": "code",
   "execution_count": 8,
   "id": "b490fa7e-4254-4a84-96b6-079cbd805c68",
   "metadata": {},
   "outputs": [],
   "source": [
    "def delete_stopwords(text):\n",
    "    \"\"\"\n",
    "    Función para eliminar stopwords del texto\n",
    "    \"\"\"\n",
    "    doc = nlp(text)\n",
    "    return ' '.join([word.text for word in doc if word.text not in esp_stop])"
   ]
  },
  {
   "cell_type": "code",
   "execution_count": 9,
   "id": "0f83da13-1245-40a8-ac33-f76377f959fc",
   "metadata": {},
   "outputs": [],
   "source": [
    "def cleaner(df, text):\n",
    "    \"\"\"\n",
    "    Función para dejar las palabras en minúscula, eliminar números, puntuación, espacios y saltos de línea.\n",
    "    \"\"\"\n",
    "    df[text] = df[text].str.lower()\n",
    "    df[text] = df[text].apply(lambda x: re.sub(\"[0-9]\", '', str(x)))\n",
    "    df[text] = df[text].str.translate(str.maketrans(' ', ' ', string.punctuation))\n",
    "    df[text] = df[text].str.replace('\\n',' ')\n",
    "    df[text] = df[text].str.replace('nº','')\n",
    "    df[text] = df[text].str.replace('n°','')\n",
    "    df[text] = df[text].str.replace('n º','')\n",
    "    df[text] = df[text].str.replace('n °','')\n",
    "    df[text] = df[text].str.replace('º','')\n",
    "    df[text] = df[text].str.replace('°','')\n",
    "    df[text] = df[text].str.strip()\n",
    "    df[text] = df[text].str.normalize('NFKD').str.encode('ascii', errors='ignore').str.decode('utf-8')  # Eliminación de acentos\n",
    "    "
   ]
  },
  {
   "cell_type": "code",
   "execution_count": 10,
   "id": "b3ed72c4-7c44-4fd9-983e-31d6a9e5275e",
   "metadata": {},
   "outputs": [],
   "source": [
    "def wordcloud(data):\n",
    "    \"\"\"\n",
    "    Función para graficar un wordcloud\n",
    "    \"\"\"\n",
    "    wc = WordCloud(background_color='white',width=800, height=400, max_words=200, colormap = 'plasma').generate_from_frequencies(data)\n",
    "    plt.figure(figsize=(15, 10))\n",
    "    plt.imshow(wc, interpolation='bilinear')\n",
    "    plt.axis('off')\n",
    "    plt.show()"
   ]
  },
  {
   "cell_type": "markdown",
   "id": "446eb308-fffd-419a-9281-2efa3406c770",
   "metadata": {},
   "source": [
    "### Importando textos ya digitalizados"
   ]
  },
  {
   "cell_type": "code",
   "execution_count": 11,
   "id": "b362d3f5-0836-4a58-9cd2-03c20193671a",
   "metadata": {},
   "outputs": [],
   "source": [
    "df_propuesta = pd.read_csv('data/processed/constitucion_propuesta.csv')\n",
    "df_propuesta.rename(columns = {'articulo':'nro_articulo'}, inplace = True)\n",
    "df_propuesta['constitucion'] = 'Propuesta'\n",
    "df_propuesta = df_propuesta[df_propuesta['capitulo']!='Convención Constitucional']\n",
    "df_propuesta['capitulo'] = np.where(df_propuesta['capitulo'] == 'Capitulo IV', 'Capítulo IV', df_propuesta['capitulo'])\n",
    "\n",
    "\n",
    "df_vigente = pd.read_csv('data/processed/constitucion_actual.csv')\n",
    "df_vigente.drop(columns = 'id', inplace = True)\n",
    "df_vigente['constitucion'] = 'Vigente'\n",
    "df_vigente['capitulo'] = np.where(df_vigente['capitulo'] =='DISPOSICIONES TRANSITORIAS', 'Disposiciones Transitorias', df_vigente['capitulo'])\n",
    "\n",
    "df = pd.concat([df_vigente,df_propuesta])\n",
    "\n",
    "df = df[['constitucion','capitulo', 'titulo_capitulo', 'nro_articulo', 'texto']]"
   ]
  },
  {
   "cell_type": "code",
   "execution_count": 12,
   "id": "38efe651-bc4b-47ea-8806-46bc8793178e",
   "metadata": {},
   "outputs": [],
   "source": [
    "df.reset_index(drop = True, inplace = True)"
   ]
  },
  {
   "cell_type": "code",
   "execution_count": 13,
   "id": "0763f1ca-35df-4b8e-9376-b206b34667c0",
   "metadata": {},
   "outputs": [
    {
     "data": {
      "text/html": [
       "<div>\n",
       "<style scoped>\n",
       "    .dataframe tbody tr th:only-of-type {\n",
       "        vertical-align: middle;\n",
       "    }\n",
       "\n",
       "    .dataframe tbody tr th {\n",
       "        vertical-align: top;\n",
       "    }\n",
       "\n",
       "    .dataframe thead th {\n",
       "        text-align: right;\n",
       "    }\n",
       "</style>\n",
       "<table border=\"1\" class=\"dataframe\">\n",
       "  <thead>\n",
       "    <tr style=\"text-align: right;\">\n",
       "      <th></th>\n",
       "      <th>constitucion</th>\n",
       "      <th>capitulo</th>\n",
       "      <th>titulo_capitulo</th>\n",
       "      <th>nro_articulo</th>\n",
       "      <th>texto</th>\n",
       "    </tr>\n",
       "  </thead>\n",
       "  <tbody>\n",
       "    <tr>\n",
       "      <th>66</th>\n",
       "      <td>Vigente</td>\n",
       "      <td>Capítulo III</td>\n",
       "      <td>DE LOS DERECHOS Y DEBERES CONSTITUCIONALES</td>\n",
       "      <td>Artículo 19</td>\n",
       "      <td>3º.- La igual protección de la ley en el ejerc...</td>\n",
       "    </tr>\n",
       "    <tr>\n",
       "      <th>1307</th>\n",
       "      <td>Propuesta</td>\n",
       "      <td>Capítulo IV</td>\n",
       "      <td>Participación Democrática</td>\n",
       "      <td>Artículo 151</td>\n",
       "      <td>## Participación y representación democrática</td>\n",
       "    </tr>\n",
       "    <tr>\n",
       "      <th>2271</th>\n",
       "      <td>Propuesta</td>\n",
       "      <td>Capítulo X</td>\n",
       "      <td>Órganos Autónomos Constitucionales</td>\n",
       "      <td>Artículo 307</td>\n",
       "      <td>3. En el ejercicio de sus funciones, deberán ...</td>\n",
       "    </tr>\n",
       "  </tbody>\n",
       "</table>\n",
       "</div>"
      ],
      "text/plain": [
       "     constitucion      capitulo                             titulo_capitulo  \\\n",
       "66        Vigente  Capítulo III  DE LOS DERECHOS Y DEBERES CONSTITUCIONALES   \n",
       "1307    Propuesta   Capítulo IV                   Participación Democrática   \n",
       "2271    Propuesta    Capítulo X          Órganos Autónomos Constitucionales   \n",
       "\n",
       "      nro_articulo                                              texto  \n",
       "66     Artículo 19  3º.- La igual protección de la ley en el ejerc...  \n",
       "1307  Artículo 151      ## Participación y representación democrática  \n",
       "2271  Artículo 307  3. En el ejercicio de sus funciones, deberán ...  "
      ]
     },
     "execution_count": 13,
     "metadata": {},
     "output_type": "execute_result"
    }
   ],
   "source": [
    "df.sample(3)"
   ]
  },
  {
   "cell_type": "markdown",
   "id": "d6300d10-50fc-4679-a52b-30ec7ee65849",
   "metadata": {},
   "source": [
    "### Desarrollo"
   ]
  },
  {
   "cell_type": "markdown",
   "id": "feb4bf23-944f-44bb-8452-81f168060220",
   "metadata": {},
   "source": [
    "Basado en: https://github.com/sethns/Latent-Dirichlet-Allocation-LDA-/blob/main/Topic%20Modeling%20_%20Extracting%20Topics_%20Using%20Sklearn.ipynb"
   ]
  },
  {
   "cell_type": "markdown",
   "id": "cfac0f17-b8b5-439a-ac30-ceba16b07783",
   "metadata": {},
   "source": [
    "Definiendo nlp"
   ]
  },
  {
   "cell_type": "code",
   "execution_count": 14,
   "id": "258de67e-f68c-42c3-a1cc-46fb3860be7e",
   "metadata": {},
   "outputs": [],
   "source": [
    "nlp = spacy.load('es_core_news_sm')"
   ]
  },
  {
   "cell_type": "markdown",
   "id": "f93d0ab3-6fbc-4df6-a4ad-6bd5517b4b49",
   "metadata": {},
   "source": [
    "Limpiando texto"
   ]
  },
  {
   "cell_type": "code",
   "execution_count": 15,
   "id": "df6f6493-073a-4293-8d5e-4874ff29775e",
   "metadata": {},
   "outputs": [],
   "source": [
    "cleaner(df, 'texto')"
   ]
  },
  {
   "cell_type": "code",
   "execution_count": 16,
   "id": "cba3b414-109a-456b-b7d7-ebbd1bb52c39",
   "metadata": {},
   "outputs": [],
   "source": [
    "df['texto_clean'] = df['texto'].apply(lambda x: delete_stopwords(x))"
   ]
  },
  {
   "cell_type": "code",
   "execution_count": 17,
   "id": "1b59d1e8-34bd-49d7-ba58-1fb58241c155",
   "metadata": {},
   "outputs": [],
   "source": [
    "df['palabras_texto'] = df['texto'].apply(lambda x: len(x.split(' ')))\n",
    "df['palabras_texto_clean'] = df['texto_clean'].apply(lambda x: len(x.split(' ')))"
   ]
  },
  {
   "cell_type": "code",
   "execution_count": 18,
   "id": "e5aafa97-3e0e-44af-acfd-e84ce6fbe850",
   "metadata": {},
   "outputs": [],
   "source": [
    "df['parrafo'] = 1"
   ]
  },
  {
   "cell_type": "code",
   "execution_count": 19,
   "id": "8088947f-c3f7-4412-b2ec-9bc4bbd62245",
   "metadata": {},
   "outputs": [
    {
     "data": {
      "text/html": [
       "<div>\n",
       "<style scoped>\n",
       "    .dataframe tbody tr th:only-of-type {\n",
       "        vertical-align: middle;\n",
       "    }\n",
       "\n",
       "    .dataframe tbody tr th {\n",
       "        vertical-align: top;\n",
       "    }\n",
       "\n",
       "    .dataframe thead th {\n",
       "        text-align: right;\n",
       "    }\n",
       "</style>\n",
       "<table border=\"1\" class=\"dataframe\">\n",
       "  <thead>\n",
       "    <tr style=\"text-align: right;\">\n",
       "      <th></th>\n",
       "      <th>constitucion</th>\n",
       "      <th>capitulo</th>\n",
       "      <th>titulo_capitulo</th>\n",
       "      <th>nro_articulo</th>\n",
       "      <th>texto</th>\n",
       "      <th>texto_clean</th>\n",
       "      <th>palabras_texto</th>\n",
       "      <th>palabras_texto_clean</th>\n",
       "      <th>parrafo</th>\n",
       "    </tr>\n",
       "  </thead>\n",
       "  <tbody>\n",
       "    <tr>\n",
       "      <th>388</th>\n",
       "      <td>Vigente</td>\n",
       "      <td>Capítulo V</td>\n",
       "      <td>CONGRESO NACIONAL</td>\n",
       "      <td>Artículo 62</td>\n",
       "      <td>los diputados y senadores percibiran como unic...</td>\n",
       "      <td>diputados senadores percibiran unica renta die...</td>\n",
       "      <td>19</td>\n",
       "      <td>9</td>\n",
       "      <td>1</td>\n",
       "    </tr>\n",
       "  </tbody>\n",
       "</table>\n",
       "</div>"
      ],
      "text/plain": [
       "    constitucion    capitulo    titulo_capitulo nro_articulo  \\\n",
       "388      Vigente  Capítulo V  CONGRESO NACIONAL  Artículo 62   \n",
       "\n",
       "                                                 texto  \\\n",
       "388  los diputados y senadores percibiran como unic...   \n",
       "\n",
       "                                           texto_clean  palabras_texto  \\\n",
       "388  diputados senadores percibiran unica renta die...              19   \n",
       "\n",
       "     palabras_texto_clean  parrafo  \n",
       "388                     9        1  "
      ]
     },
     "execution_count": 19,
     "metadata": {},
     "output_type": "execute_result"
    }
   ],
   "source": [
    "df.sample()"
   ]
  },
  {
   "cell_type": "markdown",
   "id": "c63c7422-11e9-4f21-a734-c16711f15f53",
   "metadata": {},
   "source": [
    "### Exploración de datos"
   ]
  },
  {
   "cell_type": "markdown",
   "id": "50ff9e05-c796-4ea1-b33f-56ab69af3cec",
   "metadata": {},
   "source": [
    "Extensión del texto"
   ]
  },
  {
   "cell_type": "code",
   "execution_count": 20,
   "id": "2a44fd3f-8e2d-4eef-b464-8f8fffa2876d",
   "metadata": {},
   "outputs": [
    {
     "data": {
      "text/plain": [
       "Index(['Capítulo II', 'Capítulo VI', 'Capítulo V', 'Capítulo VII',\n",
       "       'Disposiciones Transitorias', 'Capítulo VIII', 'Capítulo III',\n",
       "       'Capítulo IX', 'Capítulo X', 'Capítulo IV', 'Capítulo XV',\n",
       "       'Capítulo XIV', 'Capítulo I', 'Capítulo XI', 'Capítulo XII',\n",
       "       'Capítulo XIII'],\n",
       "      dtype='object')"
      ]
     },
     "execution_count": 20,
     "metadata": {},
     "output_type": "execute_result"
    }
   ],
   "source": [
    "df.capitulo.value_counts().index"
   ]
  },
  {
   "cell_type": "code",
   "execution_count": 21,
   "id": "218bdd33-ff18-47a2-b81b-5916e63b76e1",
   "metadata": {},
   "outputs": [],
   "source": [
    "orden = ['Capítulo I','Capítulo II', 'Capítulo III', 'Capítulo IV', 'Capítulo V','Capítulo VI', 'Capítulo VII',\n",
    "       'Capítulo VIII','Capítulo IX', 'Capítulo X',  'Capítulo XI', 'Capítulo XII','Capítulo XIII','Capítulo XIV',\n",
    "         'Capítulo XV','Disposiciones Transitorias']"
   ]
  },
  {
   "cell_type": "code",
   "execution_count": 49,
   "id": "979c0a6c-cc5a-40fb-ad50-d6fef20c5ca0",
   "metadata": {},
   "outputs": [],
   "source": [
    "pal = ['lightblue','lightgray']"
   ]
  },
  {
   "cell_type": "code",
   "execution_count": 50,
   "id": "70a22e3c-4f85-4416-a523-d55c5ae57fda",
   "metadata": {},
   "outputs": [
    {
     "data": {
      "image/png": "[encoded data removed]",
      "text/plain": [
       "<Figure size 864x864 with 2 Axes>"
      ]
     },
     "metadata": {
      "needs_background": "light"
     },
     "output_type": "display_data"
    }
   ],
   "source": [
    "temp = df.groupby(['constitucion','capitulo','texto'])['parrafo','palabras_texto','palabras_texto_clean'].sum().reset_index()\n",
    "temp['promedio_palabras_texto'] = temp['palabras_texto']/temp['parrafo']\n",
    "temp['promedio_palabras_texto_clean'] = temp['palabras_texto_clean']/temp['parrafo']\n",
    "\n",
    "fig, ax = plt.subplots(1,2,figsize = (12,12), sharex = True, sharey = True)\n",
    "\n",
    "sns.boxplot(\n",
    "    data = temp,\n",
    "    x = 'palabras_texto',\n",
    "    y = 'capitulo',\n",
    "    hue = 'constitucion',\n",
    "    palette = pal,\n",
    "    linewidth=1,\n",
    "    width=0.6,\n",
    "    fliersize = 3,\n",
    "    order = orden,\n",
    "    ax = ax[0]\n",
    ")\n",
    "\n",
    "sns.boxplot(\n",
    "    data = temp,\n",
    "    x = 'palabras_texto_clean',\n",
    "    y = 'capitulo',\n",
    "    hue = 'constitucion',\n",
    "    palette = pal,\n",
    "    linewidth=1,\n",
    "    width=0.6,\n",
    "    fliersize = 3,\n",
    "    order = orden,\n",
    "    ax = ax[1]\n",
    ")\n",
    "\n",
    "plt.suptitle('¿Cómo se compara la extensión de los capítulos entre constituciones antes y despues de eliminar stopwords?', fontsize = 14, va = 'center', ha = 'center', y = 0.92)\n",
    "ax[0].set_title('Cantidad de palabras por parrafo, con stopwords', fontsize = 11, va = 'center', ha = 'center', y = 1.01)\n",
    "ax[1].set_title('Cantidad de palabras por parrafo, eliminando stopwords', fontsize = 11, va = 'center', ha = 'center', y = 1.01)\n",
    "ax[0].legend(title = 'Constituciones', loc = 'upper right')\n",
    "ax[1].legend(title = 'Constituciones', loc = 'upper right')\n",
    "ax[0].set_ylabel('Capítulos')\n",
    "ax[1].set_ylabel('')\n",
    "ax[0].set_xlabel('Cantidad de palabras por párrafo')\n",
    "ax[1].set_xlabel('Cantidad de palabras por párrafo')\n",
    "plt.tight_layout;\n"
   ]
  },
  {
   "cell_type": "code",
   "execution_count": 51,
   "id": "aef6e6b8-b028-4578-9776-3121b7b01890",
   "metadata": {},
   "outputs": [
    {
     "data": {
      "image/png": "[encoded data removed]",
      "text/plain": [
       "<Figure size 864x576 with 2 Axes>"
      ]
     },
     "metadata": {
      "needs_background": "light"
     },
     "output_type": "display_data"
    }
   ],
   "source": [
    "temp = df.groupby(['constitucion','texto'])['parrafo','palabras_texto','palabras_texto_clean'].sum().reset_index()\n",
    "temp['promedio_palabras_texto'] = temp['palabras_texto']/temp['parrafo']\n",
    "temp['promedio_palabras_texto_clean'] = temp['palabras_texto_clean']/temp['parrafo']\n",
    "\n",
    "fig, ax = plt.subplots(1,2,figsize = (12,8), sharex = True, sharey = True)\n",
    "\n",
    "sns.boxplot(\n",
    "    data = temp,\n",
    "    x = 'palabras_texto',\n",
    "    y = 'constitucion',\n",
    "    palette = pal,\n",
    "    linewidth=1,\n",
    "    width=0.6,\n",
    "    fliersize = 3,\n",
    "    \n",
    "    ax = ax[0]\n",
    ")\n",
    "\n",
    "sns.boxplot(\n",
    "    data = temp,\n",
    "    x = 'palabras_texto_clean',\n",
    "    y = 'constitucion',\n",
    "    palette = pal,\n",
    "    linewidth=1,\n",
    "    width=0.6,\n",
    "    fliersize = 3,\n",
    "    \n",
    "    ax = ax[1]\n",
    ")\n",
    "\n",
    "plt.suptitle('¿Cómo se compara la extensión de los capítulos entre constituciones antes y despues de eliminar stopwords?', fontsize = 14, va = 'bottom', ha = 'center', y = 0.92)\n",
    "ax[0].set_title('Cantidad de palabras por parrafo, con stopwords', fontsize = 11, va = 'baseline', ha = 'center', y = 1.005)\n",
    "ax[1].set_title('Cantidad de palabras por parrafo, sin stopwords', fontsize = 11, va = 'baseline', ha = 'center', y = 1.005)\n",
    "ax[0].set_ylabel('Capítulos')\n",
    "ax[1].set_ylabel('')\n",
    "ax[0].set_xlabel('Cantidad de palabras por párrafo')\n",
    "ax[1].set_xlabel('Cantidad de palabras por párrafo')\n",
    "\n",
    "plt.tight_layout;\n"
   ]
  },
  {
   "cell_type": "code",
   "execution_count": 92,
   "id": "8b7edc48-3604-4354-a847-0996c4f2941c",
   "metadata": {},
   "outputs": [
    {
     "data": {
      "image/png": "[encoded data removed]",
      "text/plain": [
       "<Figure size 432x576 with 3 Axes>"
      ]
     },
     "metadata": {
      "needs_background": "light"
     },
     "output_type": "display_data"
    }
   ],
   "source": [
    "temp = df.groupby(['constitucion'])['parrafo','palabras_texto','palabras_texto_clean'].sum().reset_index()\n",
    "\n",
    "fig, ax = plt.subplots(3, 1,figsize = (6,8))\n",
    "\n",
    "sns.barplot(\n",
    "    data = temp,\n",
    "    x = 'constitucion',\n",
    "    y = 'parrafo',\n",
    "    palette = pal,\n",
    "    ax = ax[0]\n",
    ")\n",
    "\n",
    "sns.barplot(\n",
    "    data = temp,\n",
    "    x = 'constitucion',\n",
    "    y = 'palabras_texto',\n",
    "    palette = pal,\n",
    "    ax = ax[1]\n",
    ")\n",
    "\n",
    "sns.barplot(\n",
    "    data = temp,\n",
    "    x = 'constitucion', \n",
    "    y = 'palabras_texto_clean',\n",
    "    palette = pal,\n",
    "    ax = ax[2]\n",
    ")\n",
    "\n",
    "ax[0].set_ylim([0,3000])\n",
    "ax[1].set_ylim([0,70000])\n",
    "ax[2].set_ylim([0,70000])\n",
    "\n",
    "ax[0].bar_label(ax[0].containers[0])\n",
    "ax[1].bar_label(ax[1].containers[0])\n",
    "ax[2].bar_label(ax[2].containers[0])\n",
    "\n",
    "ax[0].set_title('Total de parrafos por constitución')\n",
    "ax[1].set_title('Total de palabras por constitución')\n",
    "ax[2].set_title('Total de palabras sin stopwords por constitución')\n",
    "\n",
    "ax[0].set_ylabel('Total de parrafos')\n",
    "ax[1].set_ylabel('Total de palabras')\n",
    "ax[2].set_ylabel('Total de palabras')\n",
    "\n",
    "plt.tight_layout();"
   ]
  },
  {
   "cell_type": "code",
   "execution_count": 24,
   "id": "48ba3e22-9f3a-4ec7-83e5-824eda39d0b0",
   "metadata": {},
   "outputs": [
    {
     "data": {
      "text/plain": [
       "constitucion\n",
       "Propuesta    167\n",
       "Vigente      198\n",
       "Name: nro_articulo, dtype: int64"
      ]
     },
     "execution_count": 24,
     "metadata": {},
     "output_type": "execute_result"
    }
   ],
   "source": [
    "df.groupby(['constitucion'])['nro_articulo'].nunique()"
   ]
  },
  {
   "cell_type": "code",
   "execution_count": null,
   "id": "7b0bff21-46d7-49b3-a49f-460d3779daf2",
   "metadata": {},
   "outputs": [],
   "source": []
  },
  {
   "cell_type": "code",
   "execution_count": null,
   "id": "977175a5-236b-4e01-9697-59c39901985e",
   "metadata": {},
   "outputs": [],
   "source": []
  },
  {
   "cell_type": "markdown",
   "id": "43355c8d-9785-4a01-b65e-432f7b63ddb0",
   "metadata": {},
   "source": [
    "### Topic modeling"
   ]
  },
  {
   "cell_type": "code",
   "execution_count": 25,
   "id": "a294f6bf-47c5-4d4b-9e35-750288f3f3a6",
   "metadata": {},
   "outputs": [],
   "source": [
    "cv_vectorizer = CountVectorizer(ngram_range = (1,1))\n",
    "cv_arr = cv_vectorizer.fit_transform(df['texto_clean'])"
   ]
  },
  {
   "cell_type": "code",
   "execution_count": 26,
   "id": "6cf869b4-a4e5-41c9-928b-16ab646323b2",
   "metadata": {},
   "outputs": [
    {
     "data": {
      "text/plain": [
       "<2619x5615 sparse matrix of type '<class 'numpy.int64'>'\n",
       "\twith 41120 stored elements in Compressed Sparse Row format>"
      ]
     },
     "execution_count": 26,
     "metadata": {},
     "output_type": "execute_result"
    }
   ],
   "source": [
    "cv_arr"
   ]
  },
  {
   "cell_type": "code",
   "execution_count": 27,
   "id": "cbf0c902-4555-4527-a14a-34f56b631545",
   "metadata": {},
   "outputs": [
    {
     "data": {
      "text/plain": [
       "['abandono',\n",
       " 'abastecer',\n",
       " 'abastecimiento',\n",
       " 'abierta',\n",
       " 'abiertamente',\n",
       " 'abierto',\n",
       " 'abiertos',\n",
       " 'abogada',\n",
       " 'abogadas',\n",
       " 'abogado']"
      ]
     },
     "execution_count": 27,
     "metadata": {},
     "output_type": "execute_result"
    }
   ],
   "source": [
    "# Creating vocabulary array which will represent all the corpus \n",
    "vocab_cv = cv_vectorizer.get_feature_names()\n",
    "\n",
    "# get the vocb list\n",
    "vocab_cv[:10]"
   ]
  },
  {
   "cell_type": "markdown",
   "id": "a29e4118-52a1-40dd-bd36-0faf84071a02",
   "metadata": {
    "tags": []
   },
   "source": [
    "### Implementando LDA"
   ]
  },
  {
   "cell_type": "code",
   "execution_count": 28,
   "id": "5fc1e630-973e-4299-96c0-4b49b0c6d107",
   "metadata": {},
   "outputs": [],
   "source": [
    "# Implementation of LDA:\n",
    "    \n",
    "# Create object for the LDA class \n",
    "# Inside this class LDA: define the components:\n",
    "lda_model = LatentDirichletAllocation(n_components = 7, max_iter = 20, random_state = 20)\n",
    "\n",
    "# fit transform on model on our count_vectorizer : running this will return our topics \n",
    "X_topics = lda_model.fit_transform(cv_arr)\n",
    "\n",
    "# .components_ gives us our topic distribution \n",
    "topic_words = lda_model.components_\n",
    "\n"
   ]
  },
  {
   "cell_type": "code",
   "execution_count": 29,
   "id": "70a05108-0d68-4f9e-b5d1-4bd75b03cf10",
   "metadata": {},
   "outputs": [
    {
     "name": "stdout",
     "output_type": "stream",
     "text": [
      "Topic 0 ['ley' 'constitucion' 'republica' 'atribuciones' 'nacional' 'podra'\n",
      " 'presidente' 'organizacion' 'funciones' 'funcionamiento' 'demas'\n",
      " 'justicia' 'vigencia' 'leyes']\n",
      "Topic 1 ['derecho' 'ley' 'constitucion' 'persona' 'toda' 'podra' 'derechos'\n",
      " 'ejercicio' 'organos' 'materias' 'asi' 'declaracion' 'aprobacion'\n",
      " 'seguridad']\n",
      "Topic 2 ['articulo' 'ley' 'inciso' 'sera' 'tribunal' 'podra' 'leyes' 'perjuicio'\n",
      " 'constitucion' 'caso' 'tribunales' 'ninguna' 'pena' 'competencia']\n",
      "Topic 3 ['derechos' 'ley' 'derecho' 'personas' 'ejercicio' 'educacion' 'humanos'\n",
      " 'constitucion' 'proteccion' 'publica' 'participacion' 'naturaleza'\n",
      " 'chile' 'garantizar']\n",
      "Topic 4 ['regional' 'territoriales' 'region' 'constitucion' 'entidades' 'gobierno'\n",
      " 'autonoma' 'administracion' 'competencias' 'ley' 'desarrollo' 'publicos'\n",
      " 'participacion' 'creacion']\n",
      "Topic 5 ['ley' 'constitucional' 'organica' 'fuerza' 'texto' 'decreto' 'electoral'\n",
      " 'articulo' 'general' 'regionales' 'refundido' 'coordinado' 'ministerio'\n",
      " 'podran']\n",
      "Topic 6 ['presidente' 'republica' 'diputados' 'congreso' 'anos' 'camara' 'corte'\n",
      " 'cargo' 'si' 'dias' 'dentro' 'diputadas' 'ejercicio' 'debera']\n"
     ]
    }
   ],
   "source": [
    "#  Define the number of Words that we want to print in every topic : n_top_words\n",
    "n_top_words = 15\n",
    "\n",
    "for i, topic_dist in enumerate(topic_words):\n",
    "    \n",
    "    # np.argsort to sorting an array or a list or the matrix acc to their values\n",
    "    sorted_topic_dist = np.argsort(topic_dist)\n",
    "    \n",
    "    # Next, to view the actual words present in those indexes we can make the use of the vocab created earlier\n",
    "    topic_words = np.array(vocab_cv)[sorted_topic_dist]\n",
    "    \n",
    "    # so using the sorted_topic_indexes we ar extracting the words from the vocabulary\n",
    "    # obtaining topics + words\n",
    "    # this topic_words variable contains the Topics  as well as the respective words present in those Topics\n",
    "    topic_words = topic_words[:-n_top_words:-1]\n",
    "    print (\"Topic\", str(i), topic_words)"
   ]
  },
  {
   "cell_type": "markdown",
   "id": "6792ed07-e7bc-42c2-bde2-2bf882c6d4fe",
   "metadata": {},
   "source": [
    "Creando df de tópicos"
   ]
  },
  {
   "cell_type": "code",
   "execution_count": 30,
   "id": "ba3467b7-6568-4be1-a4c0-4eb7149b1476",
   "metadata": {},
   "outputs": [],
   "source": [
    "df_topicos = pd.DataFrame(X_topics)\n",
    "df_topicos.columns = ['Topic 0', 'Topic 1', 'Topic 2', 'Topic 3','Topic 4','Topic 5','Topic 6']"
   ]
  },
  {
   "cell_type": "markdown",
   "id": "7c978d89-27f4-4adf-9730-cca0a13472b0",
   "metadata": {},
   "source": [
    "Agrando los tópicos al df original"
   ]
  },
  {
   "cell_type": "code",
   "execution_count": 31,
   "id": "a145dc37-583d-4b57-81e3-186808f27db3",
   "metadata": {},
   "outputs": [],
   "source": [
    "df_con_topicos = pd.merge(df, df_topicos, left_index = True, right_index = True)\n",
    "df_con_topicos['max_topic'] = X_topics.argmax(axis = 1)"
   ]
  },
  {
   "cell_type": "code",
   "execution_count": 32,
   "id": "d6a5aa3e-8998-4718-9976-57fec7fe44b3",
   "metadata": {},
   "outputs": [],
   "source": [
    "df_con_topicos.to_csv('data/processed/df_con_topicos.csv', index = False, sep = ';')"
   ]
  },
  {
   "cell_type": "markdown",
   "id": "bc88d443-5197-4713-b165-2ec862f1cff6",
   "metadata": {},
   "source": [
    "### Cuanto aparece cada tópico en cada constitución?"
   ]
  },
  {
   "cell_type": "code",
   "execution_count": 33,
   "id": "2c997211-b8f2-4dff-9e77-9b64c78cdc4c",
   "metadata": {},
   "outputs": [],
   "source": [
    "temp1 = df_con_topicos[df_con_topicos['constitucion']=='Propuesta'].groupby(['max_topic'])['texto'].count().reset_index()\n",
    "temp1['peso'] = temp1['texto']/temp1['texto'].sum()\n",
    "temp1.columns = ['max_topic','texto_propuesta','peso_propuesta']"
   ]
  },
  {
   "cell_type": "code",
   "execution_count": 34,
   "id": "8f037b34-2328-47c7-921c-6c212fe67570",
   "metadata": {},
   "outputs": [],
   "source": [
    "temp2 = df_con_topicos[df_con_topicos['constitucion']!='Propuesta'].groupby(['max_topic'])['texto'].count().reset_index()\n",
    "temp2['peso'] = temp2['texto']/temp2['texto'].sum()\n",
    "temp2.columns = ['max_topic','texto_vigente','peso_vigente']"
   ]
  },
  {
   "cell_type": "code",
   "execution_count": 35,
   "id": "2ff489eb-cf99-4a77-b837-377ab046d2e0",
   "metadata": {},
   "outputs": [],
   "source": [
    "comparacion = pd.merge(temp1, temp2, on = 'max_topic')"
   ]
  },
  {
   "cell_type": "code",
   "execution_count": 36,
   "id": "9ea4a085-1ba7-4d4a-ab5c-bdda996da412",
   "metadata": {},
   "outputs": [],
   "source": [
    "comparacion['peso_propuesta_neg'] = comparacion['peso_propuesta']*-1"
   ]
  },
  {
   "cell_type": "code",
   "execution_count": 37,
   "id": "02724083-0183-495e-b0a2-0fce6733e7a4",
   "metadata": {},
   "outputs": [
    {
     "data": {
      "text/html": [
       "<div>\n",
       "<style scoped>\n",
       "    .dataframe tbody tr th:only-of-type {\n",
       "        vertical-align: middle;\n",
       "    }\n",
       "\n",
       "    .dataframe tbody tr th {\n",
       "        vertical-align: top;\n",
       "    }\n",
       "\n",
       "    .dataframe thead th {\n",
       "        text-align: right;\n",
       "    }\n",
       "</style>\n",
       "<table border=\"1\" class=\"dataframe\">\n",
       "  <thead>\n",
       "    <tr style=\"text-align: right;\">\n",
       "      <th></th>\n",
       "      <th>max_topic</th>\n",
       "      <th>texto_propuesta</th>\n",
       "      <th>peso_propuesta</th>\n",
       "      <th>texto_vigente</th>\n",
       "      <th>peso_vigente</th>\n",
       "      <th>peso_propuesta_neg</th>\n",
       "    </tr>\n",
       "  </thead>\n",
       "  <tbody>\n",
       "    <tr>\n",
       "      <th>0</th>\n",
       "      <td>0</td>\n",
       "      <td>265</td>\n",
       "      <td>0.149972</td>\n",
       "      <td>142</td>\n",
       "      <td>0.166667</td>\n",
       "      <td>-0.149972</td>\n",
       "    </tr>\n",
       "    <tr>\n",
       "      <th>1</th>\n",
       "      <td>1</td>\n",
       "      <td>157</td>\n",
       "      <td>0.088851</td>\n",
       "      <td>63</td>\n",
       "      <td>0.073944</td>\n",
       "      <td>-0.088851</td>\n",
       "    </tr>\n",
       "    <tr>\n",
       "      <th>2</th>\n",
       "      <td>2</td>\n",
       "      <td>318</td>\n",
       "      <td>0.179966</td>\n",
       "      <td>93</td>\n",
       "      <td>0.109155</td>\n",
       "      <td>-0.179966</td>\n",
       "    </tr>\n",
       "    <tr>\n",
       "      <th>3</th>\n",
       "      <td>3</td>\n",
       "      <td>421</td>\n",
       "      <td>0.238257</td>\n",
       "      <td>115</td>\n",
       "      <td>0.134977</td>\n",
       "      <td>-0.238257</td>\n",
       "    </tr>\n",
       "    <tr>\n",
       "      <th>4</th>\n",
       "      <td>4</td>\n",
       "      <td>215</td>\n",
       "      <td>0.121675</td>\n",
       "      <td>55</td>\n",
       "      <td>0.064554</td>\n",
       "      <td>-0.121675</td>\n",
       "    </tr>\n",
       "    <tr>\n",
       "      <th>5</th>\n",
       "      <td>5</td>\n",
       "      <td>138</td>\n",
       "      <td>0.078098</td>\n",
       "      <td>140</td>\n",
       "      <td>0.164319</td>\n",
       "      <td>-0.078098</td>\n",
       "    </tr>\n",
       "    <tr>\n",
       "      <th>6</th>\n",
       "      <td>6</td>\n",
       "      <td>253</td>\n",
       "      <td>0.143181</td>\n",
       "      <td>244</td>\n",
       "      <td>0.286385</td>\n",
       "      <td>-0.143181</td>\n",
       "    </tr>\n",
       "  </tbody>\n",
       "</table>\n",
       "</div>"
      ],
      "text/plain": [
       "   max_topic  texto_propuesta  peso_propuesta  texto_vigente  peso_vigente  \\\n",
       "0          0              265        0.149972            142      0.166667   \n",
       "1          1              157        0.088851             63      0.073944   \n",
       "2          2              318        0.179966             93      0.109155   \n",
       "3          3              421        0.238257            115      0.134977   \n",
       "4          4              215        0.121675             55      0.064554   \n",
       "5          5              138        0.078098            140      0.164319   \n",
       "6          6              253        0.143181            244      0.286385   \n",
       "\n",
       "   peso_propuesta_neg  \n",
       "0           -0.149972  \n",
       "1           -0.088851  \n",
       "2           -0.179966  \n",
       "3           -0.238257  \n",
       "4           -0.121675  \n",
       "5           -0.078098  \n",
       "6           -0.143181  "
      ]
     },
     "execution_count": 37,
     "metadata": {},
     "output_type": "execute_result"
    }
   ],
   "source": [
    "comparacion"
   ]
  },
  {
   "cell_type": "code",
   "execution_count": 38,
   "id": "f549666b-bd41-45fd-a719-37dd078f5174",
   "metadata": {},
   "outputs": [
    {
     "data": {
      "image/png": "[encoded data removed]",
      "text/plain": [
       "<Figure size 360x360 with 1 Axes>"
      ]
     },
     "metadata": {
      "needs_background": "light"
     },
     "output_type": "display_data"
    }
   ],
   "source": [
    "fig, ax = plt.subplots(1,1,figsize = (5,5))\n",
    "\n",
    "sns.barplot(\n",
    "    data = comparacion,\n",
    "    x = 'peso_vigente',\n",
    "    y = 'max_topic',\n",
    "    orient = 'h',\n",
    "    color = 'royalblue',\n",
    "    ax = ax\n",
    ")\n",
    "\n",
    "sns.barplot(\n",
    "    data = comparacion,\n",
    "    x = 'peso_propuesta_neg',\n",
    "    y = 'max_topic',\n",
    "    orient = 'h',\n",
    "    color = 'forestgreen',\n",
    "    ax = ax\n",
    ")\n",
    "\n",
    "plt.axvline(x = 0, color = 'black')\n",
    "ax.set_xlabel('')\n",
    "ax.set_ylabel('')\n",
    "ax.set_yticklabels(\n",
    "    [\n",
    "        'Tópico 1',\n",
    "        'Tópico 2',\n",
    "        'Tópico 3',\n",
    "        'Tópico 4',\n",
    "        'Tópico 5',\n",
    "        'Tópico 6',\n",
    "        'Tópico 7'\n",
    "    ]\n",
    ")\n",
    "\n",
    "ax.set_xticklabels([])\n",
    "ax.set_xlim([-0.4,0.4])\n",
    "ax.set_title('Tópicos y constituciones')\n",
    "\n",
    "for i, r in comparacion.iterrows():\n",
    "    ax.annotate(text = round(r['peso_vigente'],2), xy = (r['peso_vigente'],r['max_topic']))\n",
    "    ax.annotate(text = round(r['peso_propuesta'],2), xy = (r['peso_propuesta_neg'],r['max_topic']), ha = 'right')\n"
   ]
  },
  {
   "cell_type": "code",
   "execution_count": null,
   "id": "559ec203-b454-4db6-a8c4-088e05a5924c",
   "metadata": {},
   "outputs": [],
   "source": []
  }
 ],
 "metadata": {
  "kernelspec": {
   "display_name": "Python 3 (ipykernel)",
   "language": "python",
   "name": "python3"
  },
  "language_info": {
   "codemirror_mode": {
    "name": "ipython",
    "version": 3
   },
   "file_extension": ".py",
   "mimetype": "text/x-python",
   "name": "python",
   "nbconvert_exporter": "python",
   "pygments_lexer": "ipython3",
   "version": "3.8.13"
  },
  "vscode": {
   "interpreter": {
    "hash": "e26246e812aaebdf3dc86a2826240e61e5f1fe5eb286790142ecf57e427686af"
   }
  }
 },
 "nbformat": 4,
 "nbformat_minor": 5
}
